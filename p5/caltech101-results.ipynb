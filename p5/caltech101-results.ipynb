{
 "cells": [
  {
   "cell_type": "markdown",
   "metadata": {},
   "source": [
    "# CalTech 101"
   ]
  },
  {
   "cell_type": "code",
   "execution_count": 1,
   "metadata": {},
   "outputs": [],
   "source": [
    "# Put these at the top of every notebook, to get automatic reloading and inline plotting\n",
    "\n",
    "%reload_ext autoreload\n",
    "%autoreload 2\n",
    "%matplotlib inline"
   ]
  },
  {
   "cell_type": "markdown",
   "metadata": {},
   "source": [
    "Using fastai lib"
   ]
  },
  {
   "cell_type": "code",
   "execution_count": 2,
   "metadata": {},
   "outputs": [],
   "source": [
    "from fastai.imports import *\n",
    "from fastai.transforms import *\n",
    "from fastai.conv_learner import *\n",
    "from fastai.model import *\n",
    "from fastai.dataset import *\n",
    "from fastai.sgdr import *\n",
    "from fastai.plots import *\n",
    "import time\n",
    "from sklearn.model_selection import StratifiedKFold"
   ]
  },
  {
   "cell_type": "code",
   "execution_count": 3,
   "metadata": {},
   "outputs": [],
   "source": [
    "# Uncomment the below if you need to reset your precomputed activations\n",
    "!rm -rf {PATH}tmp"
   ]
  },
  {
   "cell_type": "markdown",
   "metadata": {},
   "source": [
    "Set model parameters:"
   ]
  },
  {
   "cell_type": "code",
   "execution_count": 4,
   "metadata": {},
   "outputs": [],
   "source": [
    "PATH = \"data/caltech/direct/\"\n",
    "SZ=224 #resnet restriction\n",
    "ARCH = resnet50\n",
    "arch = ARCH\n",
    "\n",
    "TFMS = tfms_from_model(ARCH, \n",
    "                       SZ, \n",
    "                       aug_tfms=transforms_side_on, \n",
    "                       max_zoom=1.2)\n"
   ]
  },
  {
   "cell_type": "code",
   "execution_count": 5,
   "metadata": {},
   "outputs": [],
   "source": [
    "def loadImages(filenames):\n",
    "  imgs = []\n",
    "  \n",
    "  for j in range(0, len(filenames)):\n",
    "    fn = str(PATH+filenames[j])\n",
    "    try:\n",
    "        im = cv2.imread(str(fn))\n",
    "        if im is None: raise OSError(f'File not recognized by opencv: {fn}')\n",
    "    except Exception as e:\n",
    "        raise OSError('Error handling image at: {}'.format(fn)) from e\n",
    "    im = cv2.resize(im, (SZ,SZ))\n",
    "    imgs.append(cv2.cvtColor(im, cv2.COLOR_BGR2RGB).astype(np.float32)/255)\n",
    "  return imgs\n"
   ]
  },
  {
   "cell_type": "code",
   "execution_count": 6,
   "metadata": {},
   "outputs": [],
   "source": [
    "def getXY():\n",
    "    data = ImageClassifierData.from_paths(path=PATH, tfms=TFMS)\n",
    "\n",
    "    train_files = data.trn_ds.fnames\n",
    "    train_categories = data.trn_y\n",
    "    train = data.trn_ds\n",
    "    X = np.asarray(loadImages(train_files))\n",
    "    Y = np.asarray(train_categories)\n",
    "    return X, Y"
   ]
  },
  {
   "cell_type": "code",
   "execution_count": 7,
   "metadata": {},
   "outputs": [],
   "source": [
    "def getFolds(X, Y):\n",
    "  dummy = ImageClassifierData.from_paths(path=PATH, tfms=TFMS, trn_name='test')\n",
    "  tst = np.asarray(loadImages(dummy.trn_ds.fnames))\n",
    "  tst_ctg = dummy.trn_y\n",
    "  skf = StratifiedKFold(n_splits=5)\n",
    "  i =0\n",
    "  data = []\n",
    "  index = []\n",
    "  for train_index, val_index in skf.split(X, Y):\n",
    "      index.append((train_index, val_index))\n",
    "      X_train = X[train_index]\n",
    "      Y_train = Y[train_index]\n",
    "      X_valid = X[val_index]\n",
    "      Y_valid = Y[val_index]\n",
    "      trn = (X_train, Y_train)\n",
    "      val = (X_valid, Y_valid)\n",
    "      data.append(ImageClassifierData.from_arrays(path=PATH, bs=4,\n",
    "                                                  trn=trn, val=val, tfms=TFMS, test=(tst, tst_ctg)))\n",
    "      i+=1\n",
    "  return data, index"
   ]
  },
  {
   "cell_type": "code",
   "execution_count": 8,
   "metadata": {},
   "outputs": [],
   "source": [
    "def trainModels(data):\n",
    "    m=[]  \n",
    "    for i in range(len(data)):\n",
    "        m.append(ConvLearner.pretrained(arch, data[i], precompute=False))\n",
    "    return m\n"
   ]
  },
  {
   "cell_type": "code",
   "execution_count": 9,
   "metadata": {},
   "outputs": [],
   "source": [
    "def runSingleRate(models):\n",
    "  print ('running single rate')\n",
    "  start = time.time()\n",
    "  for i in range(len(data)):\n",
    "      startmodel = time.time()\n",
    "      learn = models[i]\n",
    "      learn.fit(0.012, 30)\n",
    "      endmodel = time.time()\n",
    "      duration = endmodel - startmodel\n",
    "      print('model{} took {}s'.format(i, duration))\n",
    "  finish = time.time()\n",
    "  duration = finish - start\n",
    "  print('single rate tool {}s in total'.format(duration))\n"
   ]
  },
  {
   "cell_type": "code",
   "execution_count": 10,
   "metadata": {},
   "outputs": [],
   "source": [
    "def runCyclicalRate(models):\n",
    "  print ('running cyclical rate')\n",
    "  start = time.time()\n",
    "  for i in range(len(data)):\n",
    "      startmodel = time.time()\n",
    "      learn = models[i]\n",
    "      learn.fit(0.012, 5, cycle_len=1, cycle_mult=2)\n",
    "      endmodel = time.time()\n",
    "      duration = endmodel - startmodel\n",
    "      print ('model {} took {}s'.format(i, duration))\n",
    "  end = time.time()\n",
    "  duration = end - start\n",
    "  print('Cyclical rate tool {}s in total'.format(duration))  "
   ]
  },
  {
   "cell_type": "code",
   "execution_count": 11,
   "metadata": {},
   "outputs": [],
   "source": [
    "def predictImages(models):\n",
    "    print ('predicting images')\n",
    "    preds=[]\n",
    "    start = time.time()  \n",
    "    for i in range(len(data)):\n",
    "        s = time.time()\n",
    "        learn=models[i]\n",
    "        log_preds, y=learn.TTA(is_test=True)\n",
    "        p=np.mean(np.exp(log_preds), 0)\n",
    "        preds.append(p)\n",
    "        e = time.time()\n",
    "        d = e-s\n",
    "        print ('predicting for model {} took {}s'.format(i,d))\n",
    "    mean=np.mean(preds, 0)\n",
    "    end =  time.time()\n",
    "    duration = end - start\n",
    "    print('Predicting took {}s'.format(duration))\n",
    "    return mean, y"
   ]
  },
  {
   "cell_type": "code",
   "execution_count": 12,
   "metadata": {},
   "outputs": [],
   "source": [
    "X, Y = getXY()"
   ]
  },
  {
   "cell_type": "code",
   "execution_count": 13,
   "metadata": {},
   "outputs": [],
   "source": [
    "data, indexes = getFolds(X, Y)"
   ]
  },
  {
   "cell_type": "code",
   "execution_count": 14,
   "metadata": {},
   "outputs": [
    {
     "name": "stdout",
     "output_type": "stream",
     "text": [
      "running single rate\n"
     ]
    },
    {
     "data": {
      "application/vnd.jupyter.widget-view+json": {
       "model_id": "1f90413e516d45559c11b7eb3d57d36f",
       "version_major": 2,
       "version_minor": 0
      },
      "text/html": [
       "<p>Failed to display Jupyter Widget of type <code>HBox</code>.</p>\n",
       "<p>\n",
       "  If you're reading this message in the Jupyter Notebook or JupyterLab Notebook, it may mean\n",
       "  that the widgets JavaScript is still loading. If this message persists, it\n",
       "  likely means that the widgets JavaScript library is either not installed or\n",
       "  not enabled. See the <a href=\"https://ipywidgets.readthedocs.io/en/stable/user_install.html\">Jupyter\n",
       "  Widgets Documentation</a> for setup instructions.\n",
       "</p>\n",
       "<p>\n",
       "  If you're reading this message in another frontend (for example, a static\n",
       "  rendering on GitHub or <a href=\"https://nbviewer.jupyter.org/\">NBViewer</a>),\n",
       "  it may mean that your frontend doesn't currently support widgets.\n",
       "</p>\n"
      ],
      "text/plain": [
       "HBox(children=(IntProgress(value=0, description='Epoch', max=30), HTML(value='')))"
      ]
     },
     "metadata": {},
     "output_type": "display_data"
    },
    {
     "name": "stdout",
     "output_type": "stream",
     "text": [
      "epoch      trn_loss   val_loss   accuracy                   \n",
      "    0      3.97485    2.113501   0.490196  \n",
      "    1      2.545837   1.555797   0.627451                   \n",
      "    2      1.679703   1.283281   0.637255                   \n",
      "    3      1.231134   1.119385   0.686275                   \n",
      "    4      1.037233   0.995715   0.676471                   \n",
      "    5      0.836867   1.048589   0.676471                    \n",
      "    6      0.702712   0.989124   0.696078                    \n",
      "    7      0.607287   0.945399   0.72549                     \n",
      "    8      0.53815    1.019549   0.754902                    \n",
      "    9      0.385784   0.979393   0.72549                     \n",
      "    10     0.48417    0.96018    0.745098                    \n",
      "    11     0.372646   0.878391   0.784314                    \n",
      "    12     0.315005   0.894089   0.803922                    \n",
      "    13     0.308752   0.805243   0.803922                    \n",
      "    14     0.3534     0.873264   0.794118                    \n",
      "    15     0.384271   0.818726   0.784314                    \n",
      "    16     0.286101   0.783055   0.784314                    \n",
      "    17     0.235213   0.766851   0.833333                    \n",
      "    18     0.236625   0.796438   0.77451                     \n",
      "    19     0.279854   0.908606   0.764706                   \n",
      "    20     0.262627   0.874785   0.764706                    \n",
      "    21     0.303071   0.737008   0.803922                    \n",
      "    22     0.204929   0.86855    0.754902                    \n",
      "    23     0.209051   0.907734   0.754902                    \n",
      "    24     0.245119   0.884708   0.784314                    \n",
      "    25     0.157824   1.043465   0.72549                     \n",
      "    26     0.238631   0.910772   0.754902                    \n",
      "    27     0.168477   0.884989   0.77451                     \n",
      "    28     0.354399   0.863205   0.784314                    \n",
      "    29     0.296191   1.130258   0.735294                   \n",
      "\n",
      "model0 took 138.02572631835938s\n"
     ]
    },
    {
     "data": {
      "application/vnd.jupyter.widget-view+json": {
       "model_id": "43fdaa0db0bb4655b2c631e6ff98b537",
       "version_major": 2,
       "version_minor": 0
      },
      "text/html": [
       "<p>Failed to display Jupyter Widget of type <code>HBox</code>.</p>\n",
       "<p>\n",
       "  If you're reading this message in the Jupyter Notebook or JupyterLab Notebook, it may mean\n",
       "  that the widgets JavaScript is still loading. If this message persists, it\n",
       "  likely means that the widgets JavaScript library is either not installed or\n",
       "  not enabled. See the <a href=\"https://ipywidgets.readthedocs.io/en/stable/user_install.html\">Jupyter\n",
       "  Widgets Documentation</a> for setup instructions.\n",
       "</p>\n",
       "<p>\n",
       "  If you're reading this message in another frontend (for example, a static\n",
       "  rendering on GitHub or <a href=\"https://nbviewer.jupyter.org/\">NBViewer</a>),\n",
       "  it may mean that your frontend doesn't currently support widgets.\n",
       "</p>\n"
      ],
      "text/plain": [
       "HBox(children=(IntProgress(value=0, description='Epoch', max=30), HTML(value='')))"
      ]
     },
     "metadata": {},
     "output_type": "display_data"
    },
    {
     "name": "stdout",
     "output_type": "stream",
     "text": [
      "epoch      trn_loss   val_loss   accuracy                   \n",
      "    0      4.16396    1.982196   0.568627  \n",
      "    1      2.444928   1.279033   0.637255                   \n",
      "    2      1.586206   0.999397   0.72549                    \n",
      "    3      1.17117    0.921962   0.764706                   \n",
      "    4      1.036476   0.874122   0.764706                   \n",
      "    5      0.810611   0.712514   0.803922                    \n",
      "    6      0.671157   0.789794   0.754902                    \n",
      "    7      0.600166   0.673097   0.794118                    \n",
      "    8      0.496335   0.823057   0.754902                    \n",
      "    9      0.411746   0.832365   0.764706                    \n",
      "    10     0.49641    0.83834    0.754902                    \n",
      "    11     0.436557   0.829302   0.784314                    \n",
      "    12     0.445503   0.694177   0.784314                    \n",
      "    13     0.343008   0.746499   0.803922                    \n",
      "    14     0.361419   0.852757   0.803922                    \n",
      "    15     0.304785   0.768148   0.784314                    \n",
      "    16     0.352387   0.73321    0.735294                    \n",
      "    17     0.363392   0.662849   0.813725                    \n",
      "    18     0.335408   0.864815   0.813725                    \n",
      "    19     0.241076   0.793211   0.784314                    \n",
      "    20     0.202065   0.839438   0.784314                    \n",
      "    21     0.30138    0.781583   0.794118                    \n",
      "    22     0.287124   0.763403   0.77451                     \n",
      "    23     0.246732   0.790719   0.784314                    \n",
      "    24     0.259662   0.65521    0.784314                   \n",
      "    25     0.222622   0.86353    0.833333                    \n",
      "    26     0.25856    0.742377   0.803922                    \n",
      "    27     0.240563   0.822115   0.784314                    \n",
      "    28     0.208497   0.821945   0.784314                    \n",
      "    29     0.132522   0.871488   0.823529                   \n",
      "\n",
      "model1 took 138.05683970451355s\n"
     ]
    },
    {
     "data": {
      "application/vnd.jupyter.widget-view+json": {
       "model_id": "2e929d7e95b24740b117270f67502aee",
       "version_major": 2,
       "version_minor": 0
      },
      "text/html": [
       "<p>Failed to display Jupyter Widget of type <code>HBox</code>.</p>\n",
       "<p>\n",
       "  If you're reading this message in the Jupyter Notebook or JupyterLab Notebook, it may mean\n",
       "  that the widgets JavaScript is still loading. If this message persists, it\n",
       "  likely means that the widgets JavaScript library is either not installed or\n",
       "  not enabled. See the <a href=\"https://ipywidgets.readthedocs.io/en/stable/user_install.html\">Jupyter\n",
       "  Widgets Documentation</a> for setup instructions.\n",
       "</p>\n",
       "<p>\n",
       "  If you're reading this message in another frontend (for example, a static\n",
       "  rendering on GitHub or <a href=\"https://nbviewer.jupyter.org/\">NBViewer</a>),\n",
       "  it may mean that your frontend doesn't currently support widgets.\n",
       "</p>\n"
      ],
      "text/plain": [
       "HBox(children=(IntProgress(value=0, description='Epoch', max=30), HTML(value='')))"
      ]
     },
     "metadata": {},
     "output_type": "display_data"
    },
    {
     "name": "stdout",
     "output_type": "stream",
     "text": [
      "epoch      trn_loss   val_loss   accuracy                   \n",
      "    0      4.061734   2.090645   0.490196  \n",
      "    1      2.496799   1.518172   0.588235                  \n",
      "    2      1.57477    1.279464   0.696078                   \n",
      "    3      1.113855   1.276887   0.745098                   \n",
      "    4      0.879667   1.063677   0.715686                    \n",
      "    5      0.536331   1.019719   0.72549                     \n",
      "    6      0.478422   1.053739   0.745098                    \n",
      "    7      0.521103   0.930283   0.754902                    \n",
      "    8      0.512011   1.149267   0.715686                    \n",
      "    9      0.533776   1.3504     0.715686                    \n",
      "    10     0.510314   1.141159   0.72549                    \n",
      "    11     0.394626   1.350348   0.764706                    \n",
      "    12     0.410233   1.213558   0.754902                    \n",
      "    13     0.385126   1.169382   0.77451                     \n",
      "    14     0.30742    1.140016   0.735294                    \n",
      "    15     0.283482   1.270153   0.784314                    \n",
      "    16     0.303738   1.154211   0.72549                     \n",
      "    17     0.424706   1.28534    0.754902                    \n",
      "    18     0.32834    1.200571   0.764706                    \n",
      "    19     0.189199   1.284594   0.764706                    \n",
      "    20     0.193765   1.212415   0.705882                    \n",
      "    21     0.259517   1.449426   0.72549                    \n",
      "    22     0.282008   1.449931   0.72549                     \n",
      "    23     0.222046   1.408794   0.745098                    \n",
      "    24     0.258071   1.147872   0.72549                     \n",
      "    25     0.304323   1.330156   0.735294                    \n",
      "    26     0.283985   1.218257   0.754902                    \n",
      "    27     0.28622    1.212399   0.72549                     \n",
      "    28     0.22248    1.342628   0.735294                    \n",
      "    29     0.28844    1.384161   0.656863                   \n",
      "\n",
      "model2 took 137.92449831962585s\n"
     ]
    },
    {
     "data": {
      "application/vnd.jupyter.widget-view+json": {
       "model_id": "982dd4cefda94b0196628903e0188e64",
       "version_major": 2,
       "version_minor": 0
      },
      "text/html": [
       "<p>Failed to display Jupyter Widget of type <code>HBox</code>.</p>\n",
       "<p>\n",
       "  If you're reading this message in the Jupyter Notebook or JupyterLab Notebook, it may mean\n",
       "  that the widgets JavaScript is still loading. If this message persists, it\n",
       "  likely means that the widgets JavaScript library is either not installed or\n",
       "  not enabled. See the <a href=\"https://ipywidgets.readthedocs.io/en/stable/user_install.html\">Jupyter\n",
       "  Widgets Documentation</a> for setup instructions.\n",
       "</p>\n",
       "<p>\n",
       "  If you're reading this message in another frontend (for example, a static\n",
       "  rendering on GitHub or <a href=\"https://nbviewer.jupyter.org/\">NBViewer</a>),\n",
       "  it may mean that your frontend doesn't currently support widgets.\n",
       "</p>\n"
      ],
      "text/plain": [
       "HBox(children=(IntProgress(value=0, description='Epoch', max=30), HTML(value='')))"
      ]
     },
     "metadata": {},
     "output_type": "display_data"
    },
    {
     "name": "stdout",
     "output_type": "stream",
     "text": [
      "epoch      trn_loss   val_loss   accuracy                   \n",
      "    0      4.131796   1.932339   0.529412  \n",
      "    1      2.427874   1.192517   0.696078                   \n",
      "    2      1.590867   0.908493   0.754902                   \n",
      "    3      1.113465   0.779431   0.784314                   \n",
      "    4      0.965054   0.820611   0.823529                    \n",
      "    5      0.736972   0.811242   0.794118                    \n",
      "    6      0.625128   0.772464   0.803922                    \n",
      "    7      0.651345   0.666138   0.833333                    \n",
      "    8      0.54402    0.786861   0.813725                    \n",
      "    9      0.599707   0.743387   0.813725                    \n",
      "    10     0.432045   0.912975   0.77451                     \n",
      "    11     0.471948   0.873899   0.784314                    \n",
      "    12     0.479282   0.761879   0.794118                    \n",
      "    13     0.398882   0.852365   0.803922                    \n",
      "    14     0.371078   0.733114   0.813725                    \n",
      "    15     0.265854   0.724954   0.784314                    \n",
      "    16     0.318275   0.951098   0.833333                    \n",
      "    17     0.303352   0.888897   0.794118                    \n",
      "    18     0.372481   0.905583   0.813725                    \n",
      "    19     0.293322   1.049086   0.794118                    \n",
      "    20     0.263503   0.742738   0.794118                    \n",
      "    21     0.277204   0.807879   0.813725                    \n",
      "    22     0.241336   0.913022   0.813725                    \n",
      "    23     0.384621   1.15357    0.784314                    \n",
      "    24     0.236068   1.162065   0.784314                    \n",
      "    25     0.135268   1.009292   0.794118                    \n",
      "    26     0.17781    1.070181   0.764706                    \n",
      "    27     0.236965   1.107003   0.823529                    \n",
      "    28     0.223164   1.18588    0.784314                    \n",
      "    29     0.211855   1.303998   0.794118                   \n",
      "\n",
      "model3 took 138.25815725326538s\n"
     ]
    },
    {
     "data": {
      "application/vnd.jupyter.widget-view+json": {
       "model_id": "43d61257bb6e4990a1f81cfb944b0ef9",
       "version_major": 2,
       "version_minor": 0
      },
      "text/html": [
       "<p>Failed to display Jupyter Widget of type <code>HBox</code>.</p>\n",
       "<p>\n",
       "  If you're reading this message in the Jupyter Notebook or JupyterLab Notebook, it may mean\n",
       "  that the widgets JavaScript is still loading. If this message persists, it\n",
       "  likely means that the widgets JavaScript library is either not installed or\n",
       "  not enabled. See the <a href=\"https://ipywidgets.readthedocs.io/en/stable/user_install.html\">Jupyter\n",
       "  Widgets Documentation</a> for setup instructions.\n",
       "</p>\n",
       "<p>\n",
       "  If you're reading this message in another frontend (for example, a static\n",
       "  rendering on GitHub or <a href=\"https://nbviewer.jupyter.org/\">NBViewer</a>),\n",
       "  it may mean that your frontend doesn't currently support widgets.\n",
       "</p>\n"
      ],
      "text/plain": [
       "HBox(children=(IntProgress(value=0, description='Epoch', max=30), HTML(value='')))"
      ]
     },
     "metadata": {},
     "output_type": "display_data"
    },
    {
     "name": "stdout",
     "output_type": "stream",
     "text": [
      "epoch      trn_loss   val_loss   accuracy                   \n",
      "    0      4.029313   2.10426    0.509804  \n",
      "    1      2.354541   1.247219   0.705882                   \n",
      "    2      1.704858   1.043218   0.696078                  \n",
      "    3      1.089297   0.910751   0.745098                   \n",
      "    4      0.909027   0.757703   0.794118                    \n",
      "    5      0.78107    0.791751   0.784314                    \n",
      "    6      0.597339   1.095555   0.745098                    \n",
      "    7      0.57262    0.784346   0.77451                     \n",
      "    8      0.402699   0.640314   0.803922                    \n",
      "    9      0.533833   0.869843   0.794118                    \n",
      "    10     0.436018   0.6734     0.813725                    \n",
      "    11     0.376868   0.716711   0.813725                    \n",
      "    12     0.402124   0.735578   0.794118                    \n",
      "    13     0.316499   0.784421   0.77451                     \n",
      "    14     0.320951   0.90513    0.794118                    \n",
      "    15     0.398265   0.756589   0.784314                    \n",
      "    16     0.304445   0.986965   0.784314                    \n",
      "    17     0.301101   1.176881   0.745098                    \n",
      "    18     0.250556   0.924246   0.77451                     \n",
      "    19     0.287098   0.805885   0.803922                    \n",
      "    20     0.321068   0.972113   0.77451                     \n",
      "    21     0.324766   0.802297   0.77451                     \n",
      "    22     0.314691   0.632548   0.823529                    \n",
      "    23     0.247585   0.782373   0.784314                    \n",
      "    24     0.190114   0.64563    0.77451                    \n",
      "    25     0.277936   0.759071   0.833333                    \n",
      "    26     0.295071   0.921448   0.803922                    \n",
      "    27     0.468064   0.939904   0.803922                    \n",
      "    28     0.318079   1.04786    0.784314                    \n",
      "    29     0.353917   1.013431   0.803922                   \n",
      "\n",
      "model4 took 138.09460997581482s\n",
      "single rate tool 690.3599970340729s in total\n",
      "predicting images\n",
      "predicting for model 0 took 85.08570456504822s\n",
      "predicting for model 1 took 84.9543526172638s\n",
      "predicting for model 2 took 85.09989500045776s\n",
      "predicting for model 3 took 84.96075630187988s\n",
      "predicting for model 4 took 85.16458415985107s\n",
      "Predicting took 425.26723766326904s\n",
      "result single rate 0: 0.8318627450980393\n",
      "running single rate\n"
     ]
    },
    {
     "data": {
      "application/vnd.jupyter.widget-view+json": {
       "model_id": "7a0d85b782404b86b921044c150d51e3",
       "version_major": 2,
       "version_minor": 0
      },
      "text/html": [
       "<p>Failed to display Jupyter Widget of type <code>HBox</code>.</p>\n",
       "<p>\n",
       "  If you're reading this message in the Jupyter Notebook or JupyterLab Notebook, it may mean\n",
       "  that the widgets JavaScript is still loading. If this message persists, it\n",
       "  likely means that the widgets JavaScript library is either not installed or\n",
       "  not enabled. See the <a href=\"https://ipywidgets.readthedocs.io/en/stable/user_install.html\">Jupyter\n",
       "  Widgets Documentation</a> for setup instructions.\n",
       "</p>\n",
       "<p>\n",
       "  If you're reading this message in another frontend (for example, a static\n",
       "  rendering on GitHub or <a href=\"https://nbviewer.jupyter.org/\">NBViewer</a>),\n",
       "  it may mean that your frontend doesn't currently support widgets.\n",
       "</p>\n"
      ],
      "text/plain": [
       "HBox(children=(IntProgress(value=0, description='Epoch', max=30), HTML(value='')))"
      ]
     },
     "metadata": {},
     "output_type": "display_data"
    },
    {
     "name": "stdout",
     "output_type": "stream",
     "text": [
      "epoch      trn_loss   val_loss   accuracy                   \n",
      "    0      4.008869   2.28198    0.5       \n",
      "    1      2.494496   1.526148   0.627451                   \n",
      "    2      1.670685   1.33362    0.656863                   \n",
      "    3      1.099799   1.255746   0.666667                  \n",
      "    4      0.931311   1.119736   0.705882                    \n",
      "    5      0.782125   1.048437   0.735294                    \n",
      "    6      0.755118   1.134978   0.705882                    \n",
      "    7      0.562751   1.006955   0.715686                    \n",
      "    8      0.494362   1.064766   0.764706                    \n",
      "    9      0.512009   1.036485   0.72549                     \n",
      "    10     0.537546   1.085264   0.676471                    \n",
      "    11     0.443406   1.037346   0.735294                    \n",
      "    12     0.371026   1.114285   0.72549                     \n",
      "    13     0.40193    1.199945   0.745098                    \n",
      "    14     0.271365   1.094768   0.715686                    \n",
      "    15     0.212618   0.994834   0.745098                    \n",
      "    16     0.248776   1.027812   0.735294                    \n",
      "    17     0.361113   1.172654   0.745098                    \n",
      "    18     0.32617    1.018201   0.754902                    \n",
      "    19     0.334541   1.040836   0.77451                     \n",
      "    20     0.331207   0.876342   0.77451                     \n",
      "    21     0.251295   0.991873   0.745098                    \n",
      "    22     0.322237   0.95718    0.784314                    \n",
      "    23     0.248516   0.957422   0.77451                     \n",
      "    24     0.259134   1.012769   0.803922                    \n",
      "    25     0.261259   0.979718   0.764706                    \n",
      "    26     0.23681    0.905199   0.794118                    \n",
      "    27     0.210706   1.187435   0.745098                    \n",
      "    28     0.260739   1.05969    0.77451                     \n",
      "    29     0.176211   0.96555    0.784314                    \n",
      "\n",
      "model0 took 137.97130918502808s\n"
     ]
    },
    {
     "data": {
      "application/vnd.jupyter.widget-view+json": {
       "model_id": "3c1613808a8844c49fd485a79ebde981",
       "version_major": 2,
       "version_minor": 0
      },
      "text/html": [
       "<p>Failed to display Jupyter Widget of type <code>HBox</code>.</p>\n",
       "<p>\n",
       "  If you're reading this message in the Jupyter Notebook or JupyterLab Notebook, it may mean\n",
       "  that the widgets JavaScript is still loading. If this message persists, it\n",
       "  likely means that the widgets JavaScript library is either not installed or\n",
       "  not enabled. See the <a href=\"https://ipywidgets.readthedocs.io/en/stable/user_install.html\">Jupyter\n",
       "  Widgets Documentation</a> for setup instructions.\n",
       "</p>\n",
       "<p>\n",
       "  If you're reading this message in another frontend (for example, a static\n",
       "  rendering on GitHub or <a href=\"https://nbviewer.jupyter.org/\">NBViewer</a>),\n",
       "  it may mean that your frontend doesn't currently support widgets.\n",
       "</p>\n"
      ],
      "text/plain": [
       "HBox(children=(IntProgress(value=0, description='Epoch', max=30), HTML(value='')))"
      ]
     },
     "metadata": {},
     "output_type": "display_data"
    },
    {
     "name": "stdout",
     "output_type": "stream",
     "text": [
      "epoch      trn_loss   val_loss   accuracy                   \n",
      "    0      4.115429   2.18277    0.480392  \n",
      "    1      2.549907   1.349549   0.656863                   \n",
      "    2      1.595669   1.180213   0.686275                  \n",
      "    3      1.238682   1.025571   0.735294                   \n",
      "    4      0.94052    0.997124   0.764706                    \n",
      "    5      0.816319   0.889296   0.77451                     \n",
      "    6      0.682335   0.74635    0.784314                    \n",
      "    7      0.578898   0.730795   0.77451                     \n",
      "    8      0.600902   0.831877   0.813725                    \n",
      "    9      0.446276   0.923928   0.735294                    \n",
      "    10     0.490335   0.83304    0.784314                   \n",
      "    11     0.484003   0.773929   0.784314                    \n",
      "    12     0.524632   0.790007   0.803922                    \n",
      "    13     0.35021    1.037717   0.745098                   \n",
      "    14     0.316485   0.720207   0.823529                    \n",
      "    15     0.34008    0.829697   0.754902                   \n",
      "    16     0.363413   0.793585   0.794118                    \n",
      "    17     0.342661   0.786363   0.833333                    \n",
      "    18     0.320496   0.94724    0.803922                   \n",
      "    19     0.268573   0.968607   0.794118                    \n",
      "    20     0.171041   0.872348   0.803922                    \n",
      "    21     0.156679   1.017982   0.794118                    \n",
      "    22     0.24733    1.012721   0.794118                    \n",
      "    23     0.202493   0.913861   0.813725                    \n",
      "    24     0.178353   0.980523   0.794118                    \n",
      "    25     0.198544   1.076162   0.784314                    \n",
      "    26     0.28044    0.949453   0.784314                   \n",
      "    27     0.219976   0.827743   0.813725                   \n",
      "    28     0.249898   1.006496   0.823529                   \n",
      "    29     0.219094   0.92433    0.803922                    \n",
      "\n",
      "model1 took 137.54504489898682s\n"
     ]
    },
    {
     "data": {
      "application/vnd.jupyter.widget-view+json": {
       "model_id": "e29b8dffaf224904860565551dfa9b77",
       "version_major": 2,
       "version_minor": 0
      },
      "text/html": [
       "<p>Failed to display Jupyter Widget of type <code>HBox</code>.</p>\n",
       "<p>\n",
       "  If you're reading this message in the Jupyter Notebook or JupyterLab Notebook, it may mean\n",
       "  that the widgets JavaScript is still loading. If this message persists, it\n",
       "  likely means that the widgets JavaScript library is either not installed or\n",
       "  not enabled. See the <a href=\"https://ipywidgets.readthedocs.io/en/stable/user_install.html\">Jupyter\n",
       "  Widgets Documentation</a> for setup instructions.\n",
       "</p>\n",
       "<p>\n",
       "  If you're reading this message in another frontend (for example, a static\n",
       "  rendering on GitHub or <a href=\"https://nbviewer.jupyter.org/\">NBViewer</a>),\n",
       "  it may mean that your frontend doesn't currently support widgets.\n",
       "</p>\n"
      ],
      "text/plain": [
       "HBox(children=(IntProgress(value=0, description='Epoch', max=30), HTML(value='')))"
      ]
     },
     "metadata": {},
     "output_type": "display_data"
    },
    {
     "name": "stdout",
     "output_type": "stream",
     "text": [
      "epoch      trn_loss   val_loss   accuracy                   \n",
      "    0      4.263542   2.163666   0.470588  \n",
      "    1      2.470597   1.509557   0.607843                   \n",
      "    2      1.509581   1.351103   0.656863                   \n",
      "    3      1.103288   1.215346   0.735294                  \n",
      "    4      0.870556   1.206386   0.735294                    \n",
      "    5      0.687294   1.084928   0.715686                    \n",
      "    6      0.629394   1.100711   0.754902                    \n",
      "    7      0.470384   1.237838   0.735294                   \n",
      "    8      0.476551   1.111464   0.754902                    \n",
      "    9      0.478639   1.12551    0.735294                    \n",
      "    10     0.377426   1.00754    0.764706                    \n",
      "    11     0.414809   1.168942   0.764706                    \n",
      "    12     0.419052   1.259523   0.715686                    \n",
      "    13     0.406534   1.113157   0.77451                     \n",
      "    14     0.389967   1.176557   0.754902                   \n",
      "    15     0.32135    1.158205   0.784314                    \n",
      "    16     0.328524   1.156834   0.764706                    \n",
      "    17     0.319273   1.272955   0.754902                    \n",
      "    18     0.205235   1.156612   0.745098                    \n",
      "    19     0.287268   1.248179   0.794118                    \n",
      "    20     0.276361   1.117202   0.823529                    \n",
      "    21     0.257749   1.014039   0.77451                     \n",
      "    22     0.282715   0.960374   0.794118                    \n",
      "    23     0.272046   0.985664   0.794118                    \n",
      "    24     0.252564   1.061576   0.77451                     \n",
      "    25     0.15924    1.129883   0.745098                    \n",
      "    26     0.170383   1.187025   0.784314                   \n",
      "    27     0.187973   1.06986    0.745098                    \n",
      "    28     0.176748   0.963195   0.77451                     \n",
      "    29     0.250941   1.153674   0.803922                   \n",
      "\n",
      "model2 took 137.77671813964844s\n"
     ]
    },
    {
     "data": {
      "application/vnd.jupyter.widget-view+json": {
       "model_id": "c7692ea5c3bb47898f108f7fe2f3c0d9",
       "version_major": 2,
       "version_minor": 0
      },
      "text/html": [
       "<p>Failed to display Jupyter Widget of type <code>HBox</code>.</p>\n",
       "<p>\n",
       "  If you're reading this message in the Jupyter Notebook or JupyterLab Notebook, it may mean\n",
       "  that the widgets JavaScript is still loading. If this message persists, it\n",
       "  likely means that the widgets JavaScript library is either not installed or\n",
       "  not enabled. See the <a href=\"https://ipywidgets.readthedocs.io/en/stable/user_install.html\">Jupyter\n",
       "  Widgets Documentation</a> for setup instructions.\n",
       "</p>\n",
       "<p>\n",
       "  If you're reading this message in another frontend (for example, a static\n",
       "  rendering on GitHub or <a href=\"https://nbviewer.jupyter.org/\">NBViewer</a>),\n",
       "  it may mean that your frontend doesn't currently support widgets.\n",
       "</p>\n"
      ],
      "text/plain": [
       "HBox(children=(IntProgress(value=0, description='Epoch', max=30), HTML(value='')))"
      ]
     },
     "metadata": {},
     "output_type": "display_data"
    },
    {
     "name": "stdout",
     "output_type": "stream",
     "text": [
      "epoch      trn_loss   val_loss   accuracy                   \n",
      "    0      4.281258   1.912507   0.539216  \n",
      "    1      2.501932   1.201355   0.715686                  \n",
      "    2      1.591439   0.916674   0.784314                   \n",
      "    3      1.287508   0.93822    0.754902                   \n",
      "    4      0.909042   0.733828   0.794118                    \n",
      "    5      0.771465   0.727249   0.833333                    \n",
      "    6      0.714703   0.842035   0.803922                    \n",
      "    7      0.638007   0.750271   0.784314                    \n",
      "    8      0.522568   0.806763   0.823529                    \n",
      "    9      0.412594   0.74618    0.794118                    \n",
      "    10     0.507525   0.784656   0.803922                    \n",
      "    11     0.411717   0.932508   0.794118                    \n",
      "    12     0.401322   0.793075   0.823529                    \n",
      "    13     0.369295   0.854349   0.813725                    \n",
      "    14     0.487838   0.823633   0.803922                    \n",
      "    15     0.305296   0.761043   0.794118                    \n",
      "    16     0.315625   0.806095   0.784314                    \n",
      "    17     0.353255   0.929108   0.794118                    \n",
      "    18     0.277229   0.827242   0.803922                    \n",
      "    19     0.232384   0.846023   0.852941                    \n",
      "    20     0.175394   0.974438   0.823529                    \n",
      "    21     0.248639   1.132623   0.803922                    \n",
      "    22     0.265219   0.831      0.794118                    \n",
      "    23     0.204891   1.116929   0.794118                    \n",
      "    24     0.196285   1.007336   0.833333                    \n",
      "    25     0.296176   0.868602   0.823529                    \n",
      "    26     0.281532   0.916603   0.803922                    \n",
      "    27     0.141848   0.884914   0.813725                    \n",
      "    28     0.180233   0.787498   0.803922                    \n",
      "    29     0.248249   0.886172   0.794118                   \n",
      "\n",
      "model3 took 137.83072924613953s\n"
     ]
    },
    {
     "data": {
      "application/vnd.jupyter.widget-view+json": {
       "model_id": "2b32019de43d4a67819cde8429e29c3f",
       "version_major": 2,
       "version_minor": 0
      },
      "text/html": [
       "<p>Failed to display Jupyter Widget of type <code>HBox</code>.</p>\n",
       "<p>\n",
       "  If you're reading this message in the Jupyter Notebook or JupyterLab Notebook, it may mean\n",
       "  that the widgets JavaScript is still loading. If this message persists, it\n",
       "  likely means that the widgets JavaScript library is either not installed or\n",
       "  not enabled. See the <a href=\"https://ipywidgets.readthedocs.io/en/stable/user_install.html\">Jupyter\n",
       "  Widgets Documentation</a> for setup instructions.\n",
       "</p>\n",
       "<p>\n",
       "  If you're reading this message in another frontend (for example, a static\n",
       "  rendering on GitHub or <a href=\"https://nbviewer.jupyter.org/\">NBViewer</a>),\n",
       "  it may mean that your frontend doesn't currently support widgets.\n",
       "</p>\n"
      ],
      "text/plain": [
       "HBox(children=(IntProgress(value=0, description='Epoch', max=30), HTML(value='')))"
      ]
     },
     "metadata": {},
     "output_type": "display_data"
    },
    {
     "name": "stdout",
     "output_type": "stream",
     "text": [
      "epoch      trn_loss   val_loss   accuracy                   \n",
      "    0      4.203582   1.960379   0.470588  \n",
      "    1      2.526154   1.164485   0.676471                   \n",
      "    2      1.675965   0.858675   0.745098                   \n",
      "    3      1.20953    0.894797   0.745098                   \n",
      "    4      0.885501   0.735987   0.784314                    \n",
      "    5      0.764948   0.798755   0.764706                    \n",
      "    6      0.780225   0.763315   0.794118                   \n",
      "    7      0.657861   0.884731   0.784314                    \n",
      "    8      0.57911    0.731865   0.813725                    \n",
      "    9      0.598631   0.75252    0.803922                    \n",
      "    10     0.459821   0.843514   0.784314                   \n",
      "    11     0.342585   0.782552   0.823529                    \n",
      "    12     0.368883   0.906514   0.784314                    \n",
      "    13     0.405622   0.87535    0.764706                    \n",
      "    14     0.390658   0.746344   0.803922                    \n",
      "    15     0.328591   0.689246   0.803922                    \n",
      "    16     0.347063   0.75573    0.784314                    \n",
      "    17     0.300297   0.718724   0.833333                   \n",
      "    18     0.313192   0.709352   0.813725                    \n",
      "    19     0.2828     0.595273   0.852941                    \n",
      "    20     0.40899    0.743224   0.813725                    \n",
      "    21     0.32013    0.701341   0.833333                   \n",
      "    22     0.294156   0.639557   0.794118                    \n",
      "    23     0.332293   0.764577   0.813725                    \n",
      "    24     0.358013   0.743069   0.803922                    \n",
      "    25     0.200807   0.689426   0.784314                    \n",
      "    26     0.353051   0.882814   0.754902                    \n",
      "    27     0.187633   0.731031   0.784314                    \n",
      "    28     0.165953   0.657621   0.833333                    \n",
      "    29     0.234927   0.744784   0.784314                   \n",
      "\n",
      "model4 took 137.96816039085388s\n",
      "single rate tool 689.0921185016632s in total\n",
      "predicting images\n",
      "predicting for model 0 took 84.75731468200684s\n",
      "predicting for model 1 took 84.69673371315002s\n",
      "predicting for model 2 took 84.81051683425903s\n",
      "predicting for model 3 took 84.86761212348938s\n",
      "predicting for model 4 took 85.15586614608765s\n",
      "Predicting took 424.28966069221497s\n",
      "result single rate 1: 0.8509803921568627\n",
      "running single rate\n"
     ]
    },
    {
     "data": {
      "application/vnd.jupyter.widget-view+json": {
       "model_id": "ac67fbc33e7642488e808bf91fdccfc8",
       "version_major": 2,
       "version_minor": 0
      },
      "text/html": [
       "<p>Failed to display Jupyter Widget of type <code>HBox</code>.</p>\n",
       "<p>\n",
       "  If you're reading this message in the Jupyter Notebook or JupyterLab Notebook, it may mean\n",
       "  that the widgets JavaScript is still loading. If this message persists, it\n",
       "  likely means that the widgets JavaScript library is either not installed or\n",
       "  not enabled. See the <a href=\"https://ipywidgets.readthedocs.io/en/stable/user_install.html\">Jupyter\n",
       "  Widgets Documentation</a> for setup instructions.\n",
       "</p>\n",
       "<p>\n",
       "  If you're reading this message in another frontend (for example, a static\n",
       "  rendering on GitHub or <a href=\"https://nbviewer.jupyter.org/\">NBViewer</a>),\n",
       "  it may mean that your frontend doesn't currently support widgets.\n",
       "</p>\n"
      ],
      "text/plain": [
       "HBox(children=(IntProgress(value=0, description='Epoch', max=30), HTML(value='')))"
      ]
     },
     "metadata": {},
     "output_type": "display_data"
    },
    {
     "name": "stdout",
     "output_type": "stream",
     "text": [
      "epoch      trn_loss   val_loss   accuracy                   \n",
      "    0      4.119432   2.246547   0.480392  \n",
      "    1      2.583307   1.432442   0.666667                   \n",
      "    2      1.602599   1.200655   0.715686                  \n",
      "    3      1.141969   1.118491   0.666667                   \n",
      "    4      1.027798   1.041823   0.696078                   \n",
      "    5      0.860611   1.008053   0.696078                    \n",
      "    6      0.669229   1.013677   0.705882                    \n",
      "    7      0.642196   1.102793   0.735294                    \n",
      "    8      0.499163   0.852808   0.77451                     \n",
      "    9      0.421182   1.004061   0.715686                    \n",
      "    10     0.473429   0.942862   0.784314                    \n",
      "    11     0.440522   0.834214   0.754902                    \n",
      "    12     0.431287   0.688301   0.77451                     \n",
      "    13     0.381476   0.766695   0.794118                    \n",
      "    14     0.311161   0.817573   0.764706                    \n",
      "    15     0.463383   0.790693   0.77451                     \n",
      "    16     0.412812   0.899673   0.77451                     \n",
      "    17     0.459263   0.954831   0.784314                    \n",
      "    18     0.325239   0.870662   0.745098                    \n",
      "    19     0.377383   0.985437   0.745098                    \n",
      "    20     0.33507    0.939502   0.784314                    \n",
      "    21     0.266936   0.924081   0.77451                     \n",
      "    22     0.298267   0.876569   0.745098                    \n",
      "    23     0.286553   0.905773   0.77451                     \n",
      "    24     0.438464   0.867449   0.764706                    \n",
      "    25     0.307629   0.935299   0.764706                    \n",
      "    26     0.332002   0.979045   0.784314                    \n",
      "    27     0.272177   0.911622   0.745098                    \n",
      "    28     0.257246   0.945677   0.77451                     \n",
      "    29     0.218596   1.039763   0.745098                    \n",
      "\n",
      "model0 took 138.04155492782593s\n"
     ]
    },
    {
     "data": {
      "application/vnd.jupyter.widget-view+json": {
       "model_id": "792c9fb08e874f948809ca87d760706c",
       "version_major": 2,
       "version_minor": 0
      },
      "text/html": [
       "<p>Failed to display Jupyter Widget of type <code>HBox</code>.</p>\n",
       "<p>\n",
       "  If you're reading this message in the Jupyter Notebook or JupyterLab Notebook, it may mean\n",
       "  that the widgets JavaScript is still loading. If this message persists, it\n",
       "  likely means that the widgets JavaScript library is either not installed or\n",
       "  not enabled. See the <a href=\"https://ipywidgets.readthedocs.io/en/stable/user_install.html\">Jupyter\n",
       "  Widgets Documentation</a> for setup instructions.\n",
       "</p>\n",
       "<p>\n",
       "  If you're reading this message in another frontend (for example, a static\n",
       "  rendering on GitHub or <a href=\"https://nbviewer.jupyter.org/\">NBViewer</a>),\n",
       "  it may mean that your frontend doesn't currently support widgets.\n",
       "</p>\n"
      ],
      "text/plain": [
       "HBox(children=(IntProgress(value=0, description='Epoch', max=30), HTML(value='')))"
      ]
     },
     "metadata": {},
     "output_type": "display_data"
    },
    {
     "name": "stdout",
     "output_type": "stream",
     "text": [
      "epoch      trn_loss   val_loss   accuracy                   \n",
      "    0      4.117911   1.847566   0.509804  \n",
      "    1      2.492417   1.286763   0.705882                   \n",
      "    2      1.644829   1.053559   0.686275                   \n",
      "    3      1.14674    0.836891   0.754902                   \n",
      "    4      0.853693   0.849294   0.77451                     \n",
      "    5      0.831686   0.761263   0.764706                    \n",
      "    6      0.704704   0.981558   0.77451                     \n",
      "    7      0.634332   0.701342   0.794118                    \n",
      "    8      0.540746   0.69625    0.833333                    \n",
      "    9      0.556362   0.647289   0.833333                    \n",
      "    10     0.401352   0.640981   0.813725                    \n",
      "    11     0.382317   0.532376   0.862745                    \n",
      "    12     0.38015    0.751576   0.823529                    \n",
      "    13     0.311207   0.703654   0.833333                    \n",
      "    14     0.313629   0.726617   0.813725                    \n",
      "    15     0.320363   0.719918   0.77451                    \n",
      "    16     0.265059   0.679035   0.843137                    \n",
      "    17     0.287602   0.776644   0.843137                    \n",
      "    18     0.360153   0.638846   0.823529                   \n",
      "    19     0.292933   0.848694   0.813725                    \n",
      "    20     0.25114    0.540264   0.852941                    \n",
      "    21     0.191681   0.600298   0.843137                    \n",
      "    22     0.187071   0.668888   0.813725                    \n",
      "    23     0.207394   0.623084   0.803922                    \n",
      "    24     0.29776    0.612214   0.833333                    \n",
      "    25     0.18574    0.622275   0.823529                    \n",
      "    26     0.245339   0.596844   0.833333                    \n",
      "    27     0.327173   0.751848   0.803922                    \n",
      "    28     0.307558   0.595675   0.833333                    \n",
      "    29     0.270113   0.618451   0.803922                    \n",
      "\n",
      "model1 took 139.4335582256317s\n"
     ]
    },
    {
     "data": {
      "application/vnd.jupyter.widget-view+json": {
       "model_id": "4dab5688c5ba42e786feafaf7b018ffc",
       "version_major": 2,
       "version_minor": 0
      },
      "text/html": [
       "<p>Failed to display Jupyter Widget of type <code>HBox</code>.</p>\n",
       "<p>\n",
       "  If you're reading this message in the Jupyter Notebook or JupyterLab Notebook, it may mean\n",
       "  that the widgets JavaScript is still loading. If this message persists, it\n",
       "  likely means that the widgets JavaScript library is either not installed or\n",
       "  not enabled. See the <a href=\"https://ipywidgets.readthedocs.io/en/stable/user_install.html\">Jupyter\n",
       "  Widgets Documentation</a> for setup instructions.\n",
       "</p>\n",
       "<p>\n",
       "  If you're reading this message in another frontend (for example, a static\n",
       "  rendering on GitHub or <a href=\"https://nbviewer.jupyter.org/\">NBViewer</a>),\n",
       "  it may mean that your frontend doesn't currently support widgets.\n",
       "</p>\n"
      ],
      "text/plain": [
       "HBox(children=(IntProgress(value=0, description='Epoch', max=30), HTML(value='')))"
      ]
     },
     "metadata": {},
     "output_type": "display_data"
    },
    {
     "name": "stdout",
     "output_type": "stream",
     "text": [
      "epoch      trn_loss   val_loss   accuracy                   \n",
      "    0      4.106016   1.886669   0.5       \n",
      "    1      2.348127   1.295528   0.647059                   \n",
      "    2      1.675203   1.182366   0.676471                   \n",
      "    3      1.052876   1.196384   0.77451                    \n",
      "    4      0.969611   1.070194   0.745098                    \n",
      "    5      0.758114   1.170468   0.745098                    \n",
      "    6      0.626766   1.203603   0.735294                    \n",
      "    7      0.532867   1.191791   0.72549                     \n",
      "    8      0.482956   1.101795   0.754902                    \n",
      "    9      0.449366   1.08666    0.735294                    \n",
      "    10     0.380729   1.10935    0.735294                    \n",
      "    11     0.41953    1.142253   0.745098                   \n",
      "    12     0.26599    0.965277   0.745098                    \n",
      "    13     0.423809   1.120536   0.754902                    \n",
      "    14     0.356505   1.141949   0.754902                    \n",
      "    15     0.363853   1.386425   0.745098                    \n",
      "    16     0.357193   1.14772    0.735294                    \n",
      "    17     0.330888   1.271034   0.754902                    \n",
      "    18     0.309974   1.096645   0.715686                   \n",
      "    19     0.375594   1.045183   0.745098                    \n",
      "    20     0.272014   1.184446   0.764706                    \n",
      "    21     0.220676   1.126617   0.764706                    \n",
      "    22     0.220907   1.217013   0.735294                    \n",
      "    23     0.252491   1.147507   0.77451                     \n",
      "    24     0.21124    1.169045   0.735294                    \n",
      "    25     0.228117   1.220807   0.754902                    \n",
      "    26     0.329778   1.070989   0.715686                    \n",
      "    27     0.200969   1.318115   0.735294                    \n",
      "    28     0.154225   1.165984   0.735294                    \n",
      "    29     0.17306    1.262106   0.745098                    \n",
      "\n",
      "model2 took 140.36416745185852s\n"
     ]
    },
    {
     "data": {
      "application/vnd.jupyter.widget-view+json": {
       "model_id": "8bdeba7abe82465a87214e80ff351596",
       "version_major": 2,
       "version_minor": 0
      },
      "text/html": [
       "<p>Failed to display Jupyter Widget of type <code>HBox</code>.</p>\n",
       "<p>\n",
       "  If you're reading this message in the Jupyter Notebook or JupyterLab Notebook, it may mean\n",
       "  that the widgets JavaScript is still loading. If this message persists, it\n",
       "  likely means that the widgets JavaScript library is either not installed or\n",
       "  not enabled. See the <a href=\"https://ipywidgets.readthedocs.io/en/stable/user_install.html\">Jupyter\n",
       "  Widgets Documentation</a> for setup instructions.\n",
       "</p>\n",
       "<p>\n",
       "  If you're reading this message in another frontend (for example, a static\n",
       "  rendering on GitHub or <a href=\"https://nbviewer.jupyter.org/\">NBViewer</a>),\n",
       "  it may mean that your frontend doesn't currently support widgets.\n",
       "</p>\n"
      ],
      "text/plain": [
       "HBox(children=(IntProgress(value=0, description='Epoch', max=30), HTML(value='')))"
      ]
     },
     "metadata": {},
     "output_type": "display_data"
    },
    {
     "name": "stdout",
     "output_type": "stream",
     "text": [
      "epoch      trn_loss   val_loss   accuracy                   \n",
      "    0      4.081292   1.885801   0.627451  \n",
      "    1      2.645472   1.336645   0.676471                   \n",
      "    2      1.813795   0.998232   0.745098                   \n",
      "    3      1.222862   0.921778   0.745098                   \n",
      "    4      0.959396   0.884682   0.794118                    \n",
      "    5      0.678005   0.878026   0.813725                    \n",
      "    6      0.616806   0.760799   0.803922                    \n",
      "    7      0.57175    0.877453   0.794118                    \n",
      "    8      0.525398   0.840676   0.784314                    \n",
      "    9      0.459921   1.024579   0.745098                   \n",
      "    10     0.513715   0.767045   0.833333                    \n",
      "    11     0.495765   0.885588   0.813725                    \n",
      "    12     0.433034   0.931835   0.803922                    \n",
      "    13     0.352999   1.012414   0.803922                    \n",
      "    14     0.362652   0.915508   0.803922                    \n",
      "    15     0.245144   0.858321   0.843137                    \n",
      "    16     0.329838   0.941913   0.823529                   \n",
      "    17     0.311276   1.059254   0.813725                    \n",
      "    18     0.285631   0.981586   0.823529                    \n",
      "    19     0.22048    1.179      0.813725                    \n",
      "    20     0.246713   1.138856   0.813725                    \n",
      "    21     0.319573   1.147947   0.764706                   \n",
      "    22     0.280852   1.236957   0.77451                     \n",
      "    23     0.31853    0.872819   0.784314                    \n",
      "    24     0.216832   0.962777   0.803922                    \n",
      "    25     0.172768   0.916033   0.813725                    \n",
      "    26     0.197829   0.989793   0.803922                    \n",
      "    27     0.1562     1.027868   0.803922                    \n",
      "    28     0.149148   0.909401   0.813725                    \n",
      "    29     0.282346   0.86899    0.813725                   \n",
      "\n",
      "model3 took 141.1192705631256s\n"
     ]
    },
    {
     "data": {
      "application/vnd.jupyter.widget-view+json": {
       "model_id": "60db5ed1454c4941bf06fc77bf12eca0",
       "version_major": 2,
       "version_minor": 0
      },
      "text/html": [
       "<p>Failed to display Jupyter Widget of type <code>HBox</code>.</p>\n",
       "<p>\n",
       "  If you're reading this message in the Jupyter Notebook or JupyterLab Notebook, it may mean\n",
       "  that the widgets JavaScript is still loading. If this message persists, it\n",
       "  likely means that the widgets JavaScript library is either not installed or\n",
       "  not enabled. See the <a href=\"https://ipywidgets.readthedocs.io/en/stable/user_install.html\">Jupyter\n",
       "  Widgets Documentation</a> for setup instructions.\n",
       "</p>\n",
       "<p>\n",
       "  If you're reading this message in another frontend (for example, a static\n",
       "  rendering on GitHub or <a href=\"https://nbviewer.jupyter.org/\">NBViewer</a>),\n",
       "  it may mean that your frontend doesn't currently support widgets.\n",
       "</p>\n"
      ],
      "text/plain": [
       "HBox(children=(IntProgress(value=0, description='Epoch', max=30), HTML(value='')))"
      ]
     },
     "metadata": {},
     "output_type": "display_data"
    },
    {
     "name": "stdout",
     "output_type": "stream",
     "text": [
      "epoch      trn_loss   val_loss   accuracy                   \n",
      "    0      4.232193   1.747836   0.529412  \n",
      "    1      2.56065    1.157258   0.686275                   \n",
      "    2      1.500468   0.891599   0.715686                   \n",
      "    3      1.218283   0.838116   0.784314                   \n",
      "    4      1.107      0.663489   0.803922                   \n",
      "    5      0.816489   0.72182    0.823529                    \n",
      "    6      0.622822   0.682653   0.794118                    \n",
      "    7      0.48859    0.666335   0.77451                     \n",
      "    8      0.440576   0.79045    0.784314                    \n",
      "    9      0.453373   0.836865   0.803922                    \n",
      "    10     0.452004   0.778325   0.794118                    \n",
      "    11     0.462044   0.820845   0.813725                    \n",
      "    12     0.32694    0.741536   0.784314                    \n",
      "    13     0.216342   0.813551   0.794118                    \n",
      "    14     0.328908   0.652689   0.803922                    \n",
      "    15     0.422735   0.691282   0.784314                    \n",
      "    16     0.291658   0.700085   0.823529                    \n",
      "    17     0.342494   0.589664   0.813725                    \n",
      "    18     0.24244    0.667824   0.813725                    \n",
      "    19     0.291492   0.757366   0.813725                    \n",
      "    20     0.477757   0.75874    0.813725                    \n",
      "    21     0.267145   0.666399   0.813725                    \n",
      "    22     0.282542   0.652308   0.823529                    \n",
      "    23     0.263763   0.831514   0.803922                    \n",
      "    24     0.360543   0.724566   0.843137                    \n",
      "    25     0.245767   0.788568   0.833333                    \n",
      "    26     0.225154   0.886407   0.803922                    \n",
      "    27     0.193029   0.892482   0.77451                     \n",
      "    28     0.25391    0.898537   0.784314                    \n",
      "    29     0.243375   0.754446   0.803922                   \n",
      "\n",
      "model4 took 141.78755688667297s\n",
      "single rate tool 700.7462966442108s in total\n",
      "predicting images\n",
      "predicting for model 0 took 86.6729633808136s\n",
      "predicting for model 1 took 86.75190114974976s\n",
      "predicting for model 2 took 86.77336263656616s\n",
      "predicting for model 3 took 86.71021699905396s\n",
      "predicting for model 4 took 86.61905598640442s\n",
      "Predicting took 433.52935910224915s\n",
      "result single rate 2: 0.8450980392156863\n"
     ]
    }
   ],
   "source": [
    "for j in range(3):\n",
    "  m1 = trainModels(data)\n",
    "  runSingleRate(m1)\n",
    "  preds, y =predictImages(m1)\n",
    "  result=accuracy_np(preds, y)\n",
    "  print('result single rate {}: {}'.format(j, result))"
   ]
  },
  {
   "cell_type": "code",
   "execution_count": 15,
   "metadata": {},
   "outputs": [
    {
     "name": "stdout",
     "output_type": "stream",
     "text": [
      "running cyclical rate\n"
     ]
    },
    {
     "data": {
      "application/vnd.jupyter.widget-view+json": {
       "model_id": "1622ff83929440e2b5bae3ad826cc6fe",
       "version_major": 2,
       "version_minor": 0
      },
      "text/html": [
       "<p>Failed to display Jupyter Widget of type <code>HBox</code>.</p>\n",
       "<p>\n",
       "  If you're reading this message in the Jupyter Notebook or JupyterLab Notebook, it may mean\n",
       "  that the widgets JavaScript is still loading. If this message persists, it\n",
       "  likely means that the widgets JavaScript library is either not installed or\n",
       "  not enabled. See the <a href=\"https://ipywidgets.readthedocs.io/en/stable/user_install.html\">Jupyter\n",
       "  Widgets Documentation</a> for setup instructions.\n",
       "</p>\n",
       "<p>\n",
       "  If you're reading this message in another frontend (for example, a static\n",
       "  rendering on GitHub or <a href=\"https://nbviewer.jupyter.org/\">NBViewer</a>),\n",
       "  it may mean that your frontend doesn't currently support widgets.\n",
       "</p>\n"
      ],
      "text/plain": [
       "HBox(children=(IntProgress(value=0, description='Epoch', max=31), HTML(value='')))"
      ]
     },
     "metadata": {},
     "output_type": "display_data"
    },
    {
     "name": "stdout",
     "output_type": "stream",
     "text": [
      "epoch      trn_loss   val_loss   accuracy                   \n",
      "    0      4.264588   2.659214   0.392157  \n",
      "    1      2.909347   1.484593   0.598039                   \n",
      "    2      1.654718   1.397201   0.705882                   \n",
      "    3      1.590463   1.328499   0.666667                   \n",
      "    4      1.305283   1.066216   0.705882                   \n",
      "    5      0.84367    1.001179   0.72549                     \n",
      "    6      0.58077    0.934518   0.745098                    \n",
      "    7      0.738393   1.067819   0.764706                    \n",
      "    8      0.648924   1.033141   0.715686                    \n",
      "    9      0.538097   1.018523   0.72549                     \n",
      "    10     0.447406   0.95952    0.745098                    \n",
      "    11     0.375883   0.903955   0.77451                     \n",
      "    12     0.325007   0.885891   0.77451                     \n",
      "    13     0.277534   0.900527   0.745098                    \n",
      "    14     0.271005   0.919932   0.754902                    \n",
      "    15     0.379271   1.172605   0.72549                     \n",
      "    16     0.358805   0.929776   0.784314                    \n",
      "    17     0.387139   1.061054   0.72549                     \n",
      "    18     0.410609   0.949942   0.764706                    \n",
      "    19     0.25729    0.968631   0.784314                    \n",
      "    20     0.298931   1.017162   0.754902                    \n",
      "    21     0.282184   1.00113    0.745098                    \n",
      "    22     0.171096   0.989467   0.77451                     \n",
      "    23     0.305231   0.984095   0.813725                    \n",
      "    24     0.213253   0.856823   0.784314                    \n",
      "    25     0.230868   0.86129    0.813725                    \n",
      "    26     0.159718   0.873212   0.794118                   \n",
      "    27     0.152224   0.85286    0.794118                    \n",
      "    28     0.125641   0.837488   0.813725                    \n",
      "    29     0.159762   0.846054   0.77451                     \n",
      "    30     0.116198   0.879888   0.813725                   \n",
      "\n",
      "model 0 took 146.93665719032288s\n"
     ]
    },
    {
     "data": {
      "application/vnd.jupyter.widget-view+json": {
       "model_id": "0f83ff1b61e84845acb224abb3f0f13f",
       "version_major": 2,
       "version_minor": 0
      },
      "text/html": [
       "<p>Failed to display Jupyter Widget of type <code>HBox</code>.</p>\n",
       "<p>\n",
       "  If you're reading this message in the Jupyter Notebook or JupyterLab Notebook, it may mean\n",
       "  that the widgets JavaScript is still loading. If this message persists, it\n",
       "  likely means that the widgets JavaScript library is either not installed or\n",
       "  not enabled. See the <a href=\"https://ipywidgets.readthedocs.io/en/stable/user_install.html\">Jupyter\n",
       "  Widgets Documentation</a> for setup instructions.\n",
       "</p>\n",
       "<p>\n",
       "  If you're reading this message in another frontend (for example, a static\n",
       "  rendering on GitHub or <a href=\"https://nbviewer.jupyter.org/\">NBViewer</a>),\n",
       "  it may mean that your frontend doesn't currently support widgets.\n",
       "</p>\n"
      ],
      "text/plain": [
       "HBox(children=(IntProgress(value=0, description='Epoch', max=31), HTML(value='')))"
      ]
     },
     "metadata": {},
     "output_type": "display_data"
    },
    {
     "name": "stdout",
     "output_type": "stream",
     "text": [
      "epoch      trn_loss   val_loss   accuracy                   \n",
      "    0      4.30684    2.670974   0.401961  \n",
      "    1      2.882864   1.352913   0.72549                    \n",
      "    2      1.777557   1.187456   0.676471                   \n",
      "    3      1.629147   1.097313   0.705882                   \n",
      "    4      1.030705   0.94167    0.77451                    \n",
      "    5      0.638014   0.810116   0.784314                    \n",
      "    6      0.519541   0.820977   0.784314                    \n",
      "    7      0.74563    0.863293   0.784314                    \n",
      "    8      0.787953   0.732626   0.794118                    \n",
      "    9      0.722886   0.648313   0.764706                    \n",
      "    10     0.44915    0.799645   0.754902                    \n",
      "    11     0.348804   0.731754   0.794118                    \n",
      "    12     0.262096   0.682846   0.803922                    \n",
      "    13     0.328908   0.609848   0.803922                    \n",
      "    14     0.278094   0.632556   0.784314                    \n",
      "    15     0.396166   0.819711   0.764706                    \n",
      "    16     0.339277   0.858405   0.77451                     \n",
      "    17     0.403918   0.820104   0.813725                    \n",
      "    18     0.400135   0.819163   0.784314                    \n",
      "    19     0.310963   0.648143   0.833333                    \n",
      "    20     0.253351   0.702446   0.823529                    \n",
      "    21     0.203981   0.903309   0.813725                    \n",
      "    22     0.259195   0.640716   0.852941                    \n",
      "    23     0.205026   0.698944   0.813725                    \n",
      "    24     0.160248   0.715285   0.764706                   \n",
      "    25     0.165825   0.688386   0.794118                    \n",
      "    26     0.185157   0.755985   0.823529                    \n",
      "    27     0.129365   0.70535    0.803922                    \n",
      "    28     0.164365   0.731355   0.784314                    \n",
      "    29     0.124598   0.725185   0.813725                    \n",
      "    30     0.112366   0.633606   0.823529                    \n",
      "\n",
      "model 1 took 147.11852502822876s\n"
     ]
    },
    {
     "data": {
      "application/vnd.jupyter.widget-view+json": {
       "model_id": "35c508630c884390ae0bae64d2ccd726",
       "version_major": 2,
       "version_minor": 0
      },
      "text/html": [
       "<p>Failed to display Jupyter Widget of type <code>HBox</code>.</p>\n",
       "<p>\n",
       "  If you're reading this message in the Jupyter Notebook or JupyterLab Notebook, it may mean\n",
       "  that the widgets JavaScript is still loading. If this message persists, it\n",
       "  likely means that the widgets JavaScript library is either not installed or\n",
       "  not enabled. See the <a href=\"https://ipywidgets.readthedocs.io/en/stable/user_install.html\">Jupyter\n",
       "  Widgets Documentation</a> for setup instructions.\n",
       "</p>\n",
       "<p>\n",
       "  If you're reading this message in another frontend (for example, a static\n",
       "  rendering on GitHub or <a href=\"https://nbviewer.jupyter.org/\">NBViewer</a>),\n",
       "  it may mean that your frontend doesn't currently support widgets.\n",
       "</p>\n"
      ],
      "text/plain": [
       "HBox(children=(IntProgress(value=0, description='Epoch', max=31), HTML(value='')))"
      ]
     },
     "metadata": {},
     "output_type": "display_data"
    },
    {
     "name": "stdout",
     "output_type": "stream",
     "text": [
      "epoch      trn_loss   val_loss   accuracy                   \n",
      "    0      4.184175   2.687577   0.382353  \n",
      "    1      2.893178   1.588104   0.627451                   \n",
      "    2      1.623688   1.448204   0.686275                   \n",
      "    3      1.472334   1.311586   0.676471                   \n",
      "    4      1.107971   1.18945    0.715686                   \n",
      "    5      0.659527   1.13571    0.735294                   \n",
      "    6      0.479938   1.057421   0.764706                   \n",
      "    7      0.782887   1.340499   0.72549                     \n",
      "    8      0.588238   1.165082   0.705882                    \n",
      "    9      0.583736   1.16312    0.705882                    \n",
      "    10     0.463036   1.080263   0.754902                    \n",
      "    11     0.378903   1.073624   0.72549                     \n",
      "    12     0.273691   1.049632   0.754902                    \n",
      "    13     0.288348   1.045391   0.72549                     \n",
      "    14     0.239798   1.017853   0.77451                    \n",
      "    15     0.306858   1.258854   0.735294                    \n",
      "    16     0.374273   1.211523   0.705882                    \n",
      "    17     0.376227   1.250724   0.72549                     \n",
      "    18     0.313215   1.20333    0.705882                    \n",
      "    19     0.293481   1.25458    0.745098                    \n",
      "    20     0.308321   1.15464    0.735294                    \n",
      "    21     0.244757   1.091226   0.745098                    \n",
      "    22     0.308104   1.305771   0.705882                    \n",
      "    23     0.204129   1.177598   0.72549                     \n",
      "    24     0.234981   1.180513   0.745098                    \n",
      "    25     0.149017   1.109647   0.764706                    \n",
      "    26     0.116918   1.115523   0.72549                     \n",
      "    27     0.169381   1.126314   0.735294                    \n",
      "    28     0.134708   1.116934   0.72549                     \n",
      "    29     0.151831   1.095888   0.735294                    \n",
      "    30     0.107772   1.10425    0.72549                     \n",
      "\n",
      "model 2 took 146.88933849334717s\n"
     ]
    },
    {
     "data": {
      "application/vnd.jupyter.widget-view+json": {
       "model_id": "35f1c0b78c414ac1a2b6e5fab76174e5",
       "version_major": 2,
       "version_minor": 0
      },
      "text/html": [
       "<p>Failed to display Jupyter Widget of type <code>HBox</code>.</p>\n",
       "<p>\n",
       "  If you're reading this message in the Jupyter Notebook or JupyterLab Notebook, it may mean\n",
       "  that the widgets JavaScript is still loading. If this message persists, it\n",
       "  likely means that the widgets JavaScript library is either not installed or\n",
       "  not enabled. See the <a href=\"https://ipywidgets.readthedocs.io/en/stable/user_install.html\">Jupyter\n",
       "  Widgets Documentation</a> for setup instructions.\n",
       "</p>\n",
       "<p>\n",
       "  If you're reading this message in another frontend (for example, a static\n",
       "  rendering on GitHub or <a href=\"https://nbviewer.jupyter.org/\">NBViewer</a>),\n",
       "  it may mean that your frontend doesn't currently support widgets.\n",
       "</p>\n"
      ],
      "text/plain": [
       "HBox(children=(IntProgress(value=0, description='Epoch', max=31), HTML(value='')))"
      ]
     },
     "metadata": {},
     "output_type": "display_data"
    },
    {
     "name": "stdout",
     "output_type": "stream",
     "text": [
      "epoch      trn_loss   val_loss   accuracy                   \n",
      "    0      4.309472   2.598494   0.441176  \n",
      "    1      2.887789   1.395172   0.637255                   \n",
      "    2      1.760075   1.213281   0.715686                   \n",
      "    3      1.677354   0.943302   0.754902                   \n",
      "    4      1.179748   0.837178   0.77451                    \n",
      "    5      0.742375   0.726933   0.77451                     \n",
      "    6      0.637109   0.767163   0.745098                    \n",
      "    7      0.842042   0.83915    0.764706                    \n",
      "    8      0.722961   0.759217   0.803922                    \n",
      "    9      0.709655   0.786883   0.784314                   \n",
      "    10     0.534611   0.665362   0.823529                    \n",
      "    11     0.424651   0.669711   0.823529                    \n",
      "    12     0.397838   0.571483   0.823529                    \n",
      "    13     0.226021   0.597438   0.823529                    \n",
      "    14     0.264112   0.563162   0.813725                    \n",
      "    15     0.369256   0.685862   0.813725                    \n",
      "    16     0.484686   0.683333   0.823529                    \n",
      "    17     0.48764    0.778995   0.813725                    \n",
      "    18     0.378014   0.680921   0.823529                    \n",
      "    19     0.345929   0.719825   0.803922                    \n",
      "    20     0.406638   0.677474   0.813725                    \n",
      "    21     0.315765   0.681933   0.813725                    \n",
      "    22     0.244241   0.611373   0.823529                    \n",
      "    23     0.209693   0.651612   0.833333                    \n",
      "    24     0.210989   0.630404   0.77451                     \n",
      "    25     0.14737    0.625924   0.823529                    \n",
      "    26     0.166202   0.665958   0.813725                    \n",
      "    27     0.193935   0.621616   0.813725                    \n",
      "    28     0.159262   0.578998   0.823529                    \n",
      "    29     0.1718     0.603625   0.813725                    \n",
      "    30     0.156446   0.678467   0.823529                   \n",
      "\n",
      "model 3 took 146.73660945892334s\n"
     ]
    },
    {
     "data": {
      "application/vnd.jupyter.widget-view+json": {
       "model_id": "feb4103fd7b44b83a1485be0e31e51c3",
       "version_major": 2,
       "version_minor": 0
      },
      "text/html": [
       "<p>Failed to display Jupyter Widget of type <code>HBox</code>.</p>\n",
       "<p>\n",
       "  If you're reading this message in the Jupyter Notebook or JupyterLab Notebook, it may mean\n",
       "  that the widgets JavaScript is still loading. If this message persists, it\n",
       "  likely means that the widgets JavaScript library is either not installed or\n",
       "  not enabled. See the <a href=\"https://ipywidgets.readthedocs.io/en/stable/user_install.html\">Jupyter\n",
       "  Widgets Documentation</a> for setup instructions.\n",
       "</p>\n",
       "<p>\n",
       "  If you're reading this message in another frontend (for example, a static\n",
       "  rendering on GitHub or <a href=\"https://nbviewer.jupyter.org/\">NBViewer</a>),\n",
       "  it may mean that your frontend doesn't currently support widgets.\n",
       "</p>\n"
      ],
      "text/plain": [
       "HBox(children=(IntProgress(value=0, description='Epoch', max=31), HTML(value='')))"
      ]
     },
     "metadata": {},
     "output_type": "display_data"
    },
    {
     "name": "stdout",
     "output_type": "stream",
     "text": [
      "epoch      trn_loss   val_loss   accuracy                   \n",
      "    0      4.217004   2.612081   0.45098   \n",
      "    1      2.771051   1.287913   0.647059                   \n",
      "    2      1.673122   1.101899   0.735294                   \n",
      "    3      1.604291   1.018985   0.745098                  \n",
      "    4      1.224859   0.759132   0.794118                   \n",
      "    5      0.693836   0.77967    0.745098                    \n",
      "    6      0.514197   0.707887   0.77451                     \n",
      "    7      0.764937   0.580022   0.754902                    \n",
      "    8      0.724075   0.570921   0.803922                    \n",
      "    9      0.632695   0.593753   0.813725                    \n",
      "    10     0.506833   0.596347   0.823529                    \n",
      "    11     0.393945   0.548227   0.852941                    \n",
      "    12     0.361044   0.533485   0.833333                    \n",
      "    13     0.272181   0.512314   0.823529                    \n",
      "    14     0.310969   0.52438    0.833333                    \n",
      "    15     0.300165   0.598224   0.852941                   \n",
      "    16     0.453881   0.715599   0.843137                    \n",
      "    17     0.388594   0.649846   0.843137                    \n",
      "    18     0.458093   0.609543   0.862745                    \n",
      "    19     0.386071   0.556634   0.843137                    \n",
      "    20     0.268368   0.562295   0.843137                    \n",
      "    21     0.264278   0.601268   0.843137                    \n",
      "    22     0.386975   0.523953   0.843137                    \n",
      "    23     0.270655   0.500875   0.823529                    \n",
      "    24     0.220478   0.527956   0.852941                   \n",
      "    25     0.123609   0.524345   0.843137                    \n",
      "    26     0.162911   0.505887   0.892157                    \n",
      "    27     0.155488   0.523895   0.882353                    \n",
      "    28     0.203761   0.504112   0.872549                    \n",
      "    29     0.208138   0.468306   0.901961                    \n",
      "    30     0.119675   0.515487   0.862745                   \n",
      "\n",
      "model 4 took 147.0743007659912s\n",
      "Cyclical rate tool 734.7556891441345s in total\n",
      "predicting images\n",
      "predicting for model 0 took 86.81932258605957s\n",
      "predicting for model 1 took 86.84090805053711s\n",
      "predicting for model 2 took 86.8088173866272s\n",
      "predicting for model 3 took 86.84161448478699s\n",
      "predicting for model 4 took 86.76989912986755s\n",
      "Predicting took 434.0826210975647s\n",
      "result cyclical rate 0: 0.8465686274509804\n",
      "running cyclical rate\n"
     ]
    },
    {
     "data": {
      "application/vnd.jupyter.widget-view+json": {
       "model_id": "4824d0da63a94a74b71c85aa1b6eec0b",
       "version_major": 2,
       "version_minor": 0
      },
      "text/html": [
       "<p>Failed to display Jupyter Widget of type <code>HBox</code>.</p>\n",
       "<p>\n",
       "  If you're reading this message in the Jupyter Notebook or JupyterLab Notebook, it may mean\n",
       "  that the widgets JavaScript is still loading. If this message persists, it\n",
       "  likely means that the widgets JavaScript library is either not installed or\n",
       "  not enabled. See the <a href=\"https://ipywidgets.readthedocs.io/en/stable/user_install.html\">Jupyter\n",
       "  Widgets Documentation</a> for setup instructions.\n",
       "</p>\n",
       "<p>\n",
       "  If you're reading this message in another frontend (for example, a static\n",
       "  rendering on GitHub or <a href=\"https://nbviewer.jupyter.org/\">NBViewer</a>),\n",
       "  it may mean that your frontend doesn't currently support widgets.\n",
       "</p>\n"
      ],
      "text/plain": [
       "HBox(children=(IntProgress(value=0, description='Epoch', max=31), HTML(value='')))"
      ]
     },
     "metadata": {},
     "output_type": "display_data"
    },
    {
     "name": "stdout",
     "output_type": "stream",
     "text": [
      "epoch      trn_loss   val_loss   accuracy                   \n",
      "    0      4.282412   2.58249    0.401961  \n",
      "    1      2.872648   1.60466    0.598039                   \n",
      "    2      1.665145   1.47115    0.598039                   \n",
      "    3      1.649908   1.250956   0.637255                   \n",
      "    4      1.216117   1.131192   0.735294                   \n",
      "    5      0.882692   0.995158   0.745098                    \n",
      "    6      0.560041   0.988843   0.754902                    \n",
      "    7      0.794471   1.097995   0.696078                    \n",
      "    8      0.748205   1.056751   0.715686                    \n",
      "    9      0.609994   1.056493   0.715686                   \n",
      "    10     0.47645    1.00967    0.754902                    \n",
      "    11     0.438767   1.0156     0.72549                     \n",
      "    12     0.331993   0.962846   0.705882                    \n",
      "    13     0.350951   0.895457   0.72549                     \n",
      "    14     0.345886   0.949851   0.72549                     \n",
      "    15     0.419992   1.043756   0.705882                    \n",
      "    16     0.504806   1.046432   0.745098                    \n",
      "    17     0.530506   0.935337   0.764706                    \n",
      "    18     0.338635   0.996168   0.794118                    \n",
      "    19     0.435091   0.940365   0.764706                    \n",
      "    20     0.323059   0.959612   0.794118                    \n",
      "    21     0.283334   1.018735   0.745098                    \n",
      "    22     0.32705    1.035575   0.754902                    \n",
      "    23     0.184591   1.028178   0.745098                    \n",
      "    24     0.214699   0.993597   0.764706                    \n",
      "    25     0.153226   0.916218   0.764706                    \n",
      "    26     0.123272   0.94956    0.754902                    \n",
      "    27     0.121061   0.954564   0.764706                    \n",
      "    28     0.134606   0.91245    0.745098                    \n",
      "    29     0.160066   0.922647   0.77451                    \n",
      "    30     0.149623   0.931773   0.764706                   \n",
      "\n",
      "model 0 took 147.4407148361206s\n"
     ]
    },
    {
     "data": {
      "application/vnd.jupyter.widget-view+json": {
       "model_id": "fb35d7fdcc9247958993b9dac9696348",
       "version_major": 2,
       "version_minor": 0
      },
      "text/html": [
       "<p>Failed to display Jupyter Widget of type <code>HBox</code>.</p>\n",
       "<p>\n",
       "  If you're reading this message in the Jupyter Notebook or JupyterLab Notebook, it may mean\n",
       "  that the widgets JavaScript is still loading. If this message persists, it\n",
       "  likely means that the widgets JavaScript library is either not installed or\n",
       "  not enabled. See the <a href=\"https://ipywidgets.readthedocs.io/en/stable/user_install.html\">Jupyter\n",
       "  Widgets Documentation</a> for setup instructions.\n",
       "</p>\n",
       "<p>\n",
       "  If you're reading this message in another frontend (for example, a static\n",
       "  rendering on GitHub or <a href=\"https://nbviewer.jupyter.org/\">NBViewer</a>),\n",
       "  it may mean that your frontend doesn't currently support widgets.\n",
       "</p>\n"
      ],
      "text/plain": [
       "HBox(children=(IntProgress(value=0, description='Epoch', max=31), HTML(value='')))"
      ]
     },
     "metadata": {},
     "output_type": "display_data"
    },
    {
     "name": "stdout",
     "output_type": "stream",
     "text": [
      "epoch      trn_loss   val_loss   accuracy                   \n",
      "    0      4.258036   2.584253   0.45098   \n",
      "    1      2.973565   1.265923   0.666667                   \n",
      "    2      1.705804   1.077108   0.72549                    \n",
      "    3      1.405267   1.051679   0.745098                   \n",
      "    4      1.108824   0.805437   0.813725                   \n",
      "    5      0.800681   0.618621   0.794118                    \n",
      "    6      0.542152   0.613917   0.803922                    \n",
      "    7      0.723219   0.764892   0.803922                    \n",
      "    8      0.884478   0.636359   0.77451                     \n",
      "    9      0.679157   0.80985    0.77451                     \n",
      "    10     0.521744   0.775026   0.754902                    \n",
      "    11     0.456216   0.652596   0.823529                    \n",
      "    12     0.385574   0.639932   0.813725                    \n",
      "    13     0.25406    0.584108   0.823529                    \n",
      "    14     0.269172   0.632131   0.823529                    \n",
      "    15     0.388398   0.623738   0.784314                    \n",
      "    16     0.459922   0.799625   0.813725                   \n",
      "    17     0.350512   0.927258   0.764706                    \n",
      "    18     0.422863   0.678149   0.813725                    \n",
      "    19     0.459293   0.734154   0.794118                    \n",
      "    20     0.305798   0.691555   0.813725                    \n",
      "    21     0.230169   0.665462   0.803922                   \n",
      "    22     0.218269   0.61643    0.823529                    \n",
      "    23     0.205268   0.677917   0.833333                    \n",
      "    24     0.144719   0.664402   0.852941                    \n",
      "    25     0.155684   0.745625   0.843137                    \n",
      "    26     0.139436   0.672187   0.843137                    \n",
      "    27     0.202973   0.59927    0.852941                    \n",
      "    28     0.11344    0.601867   0.862745                    \n",
      "    29     0.089973   0.61585    0.843137                    \n",
      "    30     0.101369   0.617648   0.852941                    \n",
      "\n",
      "model 1 took 146.92061734199524s\n"
     ]
    },
    {
     "data": {
      "application/vnd.jupyter.widget-view+json": {
       "model_id": "80b267537c1746319dd937b23a7fe884",
       "version_major": 2,
       "version_minor": 0
      },
      "text/html": [
       "<p>Failed to display Jupyter Widget of type <code>HBox</code>.</p>\n",
       "<p>\n",
       "  If you're reading this message in the Jupyter Notebook or JupyterLab Notebook, it may mean\n",
       "  that the widgets JavaScript is still loading. If this message persists, it\n",
       "  likely means that the widgets JavaScript library is either not installed or\n",
       "  not enabled. See the <a href=\"https://ipywidgets.readthedocs.io/en/stable/user_install.html\">Jupyter\n",
       "  Widgets Documentation</a> for setup instructions.\n",
       "</p>\n",
       "<p>\n",
       "  If you're reading this message in another frontend (for example, a static\n",
       "  rendering on GitHub or <a href=\"https://nbviewer.jupyter.org/\">NBViewer</a>),\n",
       "  it may mean that your frontend doesn't currently support widgets.\n",
       "</p>\n"
      ],
      "text/plain": [
       "HBox(children=(IntProgress(value=0, description='Epoch', max=31), HTML(value='')))"
      ]
     },
     "metadata": {},
     "output_type": "display_data"
    },
    {
     "name": "stdout",
     "output_type": "stream",
     "text": [
      "epoch      trn_loss   val_loss   accuracy                  \n",
      "    0      4.20108    2.52905    0.421569  \n",
      "    1      2.847793   1.391781   0.647059                   \n",
      "    2      1.571455   1.272205   0.72549                    \n",
      "    3      1.556488   1.379757   0.647059                   \n",
      "    4      1.111217   1.196152   0.666667                   \n",
      "    5      0.769722   1.037858   0.715686                   \n",
      "    6      0.528691   1.098485   0.686275                    \n",
      "    7      0.756014   1.119164   0.705882                    \n",
      "    8      0.708739   1.019337   0.715686                    \n",
      "    9      0.502616   1.127164   0.764706                    \n",
      "    10     0.533705   1.062718   0.72549                     \n",
      "    11     0.410819   1.090048   0.715686                    \n",
      "    12     0.299277   0.946098   0.754902                    \n",
      "    13     0.219923   0.986682   0.735294                   \n",
      "    14     0.228202   0.988792   0.754902                    \n",
      "    15     0.339566   1.027705   0.754902                    \n",
      "    16     0.407098   1.211624   0.754902                    \n",
      "    17     0.469599   1.129939   0.77451                    \n",
      "    18     0.378689   1.217569   0.745098                    \n",
      "    19     0.317409   1.264699   0.715686                    \n",
      "    20     0.340028   1.061139   0.745098                    \n",
      "    21     0.334369   1.158498   0.745098                    \n",
      "    22     0.226315   1.105777   0.745098                    \n",
      "    23     0.191636   1.120228   0.735294                    \n",
      "    24     0.147565   1.135647   0.764706                    \n",
      "    25     0.18378    1.105668   0.754902                    \n",
      "    26     0.156928   1.080794   0.745098                    \n",
      "    27     0.099664   1.080513   0.745098                     \n",
      "    28     0.132078   1.069762   0.77451                     \n",
      "    29     0.08125    1.130202   0.745098                     \n",
      "    30     0.136856   1.143452   0.754902                   \n",
      "\n",
      "model 2 took 147.0539801120758s\n"
     ]
    },
    {
     "data": {
      "application/vnd.jupyter.widget-view+json": {
       "model_id": "047a419e072f4036b10fa52dc7e04f92",
       "version_major": 2,
       "version_minor": 0
      },
      "text/html": [
       "<p>Failed to display Jupyter Widget of type <code>HBox</code>.</p>\n",
       "<p>\n",
       "  If you're reading this message in the Jupyter Notebook or JupyterLab Notebook, it may mean\n",
       "  that the widgets JavaScript is still loading. If this message persists, it\n",
       "  likely means that the widgets JavaScript library is either not installed or\n",
       "  not enabled. See the <a href=\"https://ipywidgets.readthedocs.io/en/stable/user_install.html\">Jupyter\n",
       "  Widgets Documentation</a> for setup instructions.\n",
       "</p>\n",
       "<p>\n",
       "  If you're reading this message in another frontend (for example, a static\n",
       "  rendering on GitHub or <a href=\"https://nbviewer.jupyter.org/\">NBViewer</a>),\n",
       "  it may mean that your frontend doesn't currently support widgets.\n",
       "</p>\n"
      ],
      "text/plain": [
       "HBox(children=(IntProgress(value=0, description='Epoch', max=31), HTML(value='')))"
      ]
     },
     "metadata": {},
     "output_type": "display_data"
    },
    {
     "name": "stdout",
     "output_type": "stream",
     "text": [
      "epoch      trn_loss   val_loss   accuracy                   \n",
      "    0      4.283714   2.600274   0.45098   \n",
      "    1      2.842495   1.426231   0.666667                   \n",
      "    2      1.597949   1.220929   0.77451                   \n",
      "    3      1.51403    1.069905   0.735294                   \n",
      "    4      1.135167   0.858211   0.813725                   \n",
      "    5      0.723516   0.733264   0.843137                    \n",
      "    6      0.712582   0.745501   0.823529                    \n",
      "    7      0.74344    0.728084   0.803922                    \n",
      "    8      0.634691   0.697082   0.823529                    \n",
      "    9      0.583991   0.732973   0.813725                    \n",
      "    10     0.449373   0.627257   0.882353                    \n",
      "    11     0.327495   0.637982   0.843137                    \n",
      "    12     0.281428   0.647763   0.843137                    \n",
      "    13     0.228817   0.643451   0.852941                    \n",
      "    14     0.243149   0.635855   0.892157                    \n",
      "    15     0.420957   0.765454   0.823529                    \n",
      "    16     0.345008   0.96505    0.794118                    \n",
      "    17     0.452714   0.708048   0.843137                    \n",
      "    18     0.369902   0.798958   0.813725                   \n",
      "    19     0.393287   0.790598   0.803922                    \n",
      "    20     0.295209   0.807578   0.823529                    \n",
      "    21     0.290342   0.716392   0.833333                    \n",
      "    22     0.309545   0.819149   0.833333                   \n",
      "    23     0.16675    0.81158    0.823529                    \n",
      "    24     0.223949   0.849904   0.813725                    \n",
      "    25     0.21169    0.763897   0.823529                    \n",
      "    26     0.178086   0.763217   0.813725                    \n",
      "    27     0.201296   0.780923   0.813725                    \n",
      "    28     0.201983   0.78419    0.823529                    \n",
      "    29     0.163117   0.748753   0.803922                    \n",
      "    30     0.116303   0.723783   0.833333                    \n",
      "\n",
      "model 3 took 147.29462599754333s\n"
     ]
    },
    {
     "data": {
      "application/vnd.jupyter.widget-view+json": {
       "model_id": "fc237477fe864579a9f97f38538130c7",
       "version_major": 2,
       "version_minor": 0
      },
      "text/html": [
       "<p>Failed to display Jupyter Widget of type <code>HBox</code>.</p>\n",
       "<p>\n",
       "  If you're reading this message in the Jupyter Notebook or JupyterLab Notebook, it may mean\n",
       "  that the widgets JavaScript is still loading. If this message persists, it\n",
       "  likely means that the widgets JavaScript library is either not installed or\n",
       "  not enabled. See the <a href=\"https://ipywidgets.readthedocs.io/en/stable/user_install.html\">Jupyter\n",
       "  Widgets Documentation</a> for setup instructions.\n",
       "</p>\n",
       "<p>\n",
       "  If you're reading this message in another frontend (for example, a static\n",
       "  rendering on GitHub or <a href=\"https://nbviewer.jupyter.org/\">NBViewer</a>),\n",
       "  it may mean that your frontend doesn't currently support widgets.\n",
       "</p>\n"
      ],
      "text/plain": [
       "HBox(children=(IntProgress(value=0, description='Epoch', max=31), HTML(value='')))"
      ]
     },
     "metadata": {},
     "output_type": "display_data"
    },
    {
     "name": "stdout",
     "output_type": "stream",
     "text": [
      "epoch      trn_loss   val_loss   accuracy                   \n",
      "    0      4.307005   2.693323   0.421569  \n",
      "    1      2.983373   1.527648   0.607843                   \n",
      "    2      1.784694   1.276857   0.705882                   \n",
      "    3      1.614926   1.065714   0.696078                   \n",
      "    4      1.11337    0.847854   0.754902                   \n",
      "    5      0.828224   0.744909   0.735294                    \n",
      "    6      0.559223   0.723491   0.784314                    \n",
      "    7      0.729456   0.891187   0.735294                    \n",
      "    8      0.671404   0.765904   0.77451                     \n",
      "    9      0.562726   0.735585   0.754902                    \n",
      "    10     0.507577   0.746328   0.77451                     \n",
      "    11     0.400469   0.650343   0.794118                   \n",
      "    12     0.374517   0.635374   0.803922                    \n",
      "    13     0.279541   0.618276   0.803922                    \n",
      "    14     0.272221   0.600071   0.813725                    \n",
      "    15     0.286841   0.741495   0.754902                    \n",
      "    16     0.307968   0.855292   0.735294                    \n",
      "    17     0.303974   0.694968   0.794118                    \n",
      "    18     0.350126   0.834636   0.784314                    \n",
      "    19     0.403073   0.689994   0.803922                    \n",
      "    20     0.314693   0.697677   0.803922                    \n",
      "    21     0.251873   0.7804     0.823529                    \n",
      "    22     0.195845   0.657446   0.833333                    \n",
      "    23     0.213834   0.770236   0.823529                    \n",
      "    24     0.147816   0.644678   0.862745                    \n",
      "    25     0.174439   0.657057   0.823529                    \n",
      "    26     0.188685   0.647445   0.833333                    \n",
      "    27     0.142413   0.665973   0.823529                    \n",
      "    28     0.131677   0.633069   0.843137                    \n",
      "    29     0.184615   0.608298   0.813725                    \n",
      "    30     0.130431   0.609706   0.843137                   \n",
      "\n",
      "model 4 took 148.4661705493927s\n",
      "Cyclical rate tool 737.1764948368073s in total\n",
      "predicting images\n",
      "predicting for model 0 took 87.09787607192993s\n",
      "predicting for model 1 took 87.16086506843567s\n",
      "predicting for model 2 took 86.96364998817444s\n",
      "predicting for model 3 took 87.10318326950073s\n",
      "predicting for model 4 took 87.07571363449097s\n",
      "Predicting took 435.40336322784424s\n",
      "result cyclical rate 1: 0.8475490196078431\n",
      "running cyclical rate\n"
     ]
    },
    {
     "data": {
      "application/vnd.jupyter.widget-view+json": {
       "model_id": "86a0d30f8b4f485da2c352be8a48295a",
       "version_major": 2,
       "version_minor": 0
      },
      "text/html": [
       "<p>Failed to display Jupyter Widget of type <code>HBox</code>.</p>\n",
       "<p>\n",
       "  If you're reading this message in the Jupyter Notebook or JupyterLab Notebook, it may mean\n",
       "  that the widgets JavaScript is still loading. If this message persists, it\n",
       "  likely means that the widgets JavaScript library is either not installed or\n",
       "  not enabled. See the <a href=\"https://ipywidgets.readthedocs.io/en/stable/user_install.html\">Jupyter\n",
       "  Widgets Documentation</a> for setup instructions.\n",
       "</p>\n",
       "<p>\n",
       "  If you're reading this message in another frontend (for example, a static\n",
       "  rendering on GitHub or <a href=\"https://nbviewer.jupyter.org/\">NBViewer</a>),\n",
       "  it may mean that your frontend doesn't currently support widgets.\n",
       "</p>\n"
      ],
      "text/plain": [
       "HBox(children=(IntProgress(value=0, description='Epoch', max=31), HTML(value='')))"
      ]
     },
     "metadata": {},
     "output_type": "display_data"
    },
    {
     "name": "stdout",
     "output_type": "stream",
     "text": [
      "epoch      trn_loss   val_loss   accuracy                   \n",
      "    0      4.253345   2.739376   0.392157  \n",
      "    1      2.817567   1.720528   0.607843                   \n",
      "    2      1.741009   1.535781   0.647059                   \n",
      "    3      1.417673   1.273663   0.656863                   \n",
      "    4      1.106595   1.119192   0.715686                   \n",
      "    5      0.675311   1.147453   0.686275                    \n",
      "    6      0.534351   1.139133   0.754902                    \n",
      "    7      0.704532   1.190561   0.696078                    \n",
      "    8      0.68597    1.160063   0.715686                    \n",
      "    9      0.732561   1.130143   0.705882                    \n",
      "    10     0.437984   1.055234   0.715686                    \n",
      "    11     0.530852   0.968592   0.735294                    \n",
      "    12     0.335021   0.908617   0.794118                    \n",
      "    13     0.300762   0.933661   0.764706                    \n",
      "    14     0.192842   0.921035   0.754902                    \n",
      "    15     0.363985   1.057952   0.72549                     \n",
      "    16     0.349206   1.104753   0.764706                    \n",
      "    17     0.398622   1.129354   0.754902                    \n",
      "    18     0.317049   1.037306   0.803922                    \n",
      "    19     0.364183   1.041151   0.745098                    \n",
      "    20     0.280728   1.059659   0.764706                    \n",
      "    21     0.175222   1.019734   0.77451                     \n",
      "    22     0.212953   1.061119   0.754902                    \n",
      "    23     0.257084   0.976133   0.803922                    \n",
      "    24     0.18526    0.994645   0.784314                    \n",
      "    25     0.164512   0.987905   0.784314                    \n",
      "    26     0.136437   0.9403     0.784314                    \n",
      "    27     0.153205   0.991919   0.794118                    \n",
      "    28     0.143092   0.969424   0.784314                    \n",
      "    29     0.237632   0.991636   0.784314                    \n",
      "    30     0.16489    0.985415   0.794118                   \n",
      "\n",
      "model 0 took 148.27464532852173s\n"
     ]
    },
    {
     "data": {
      "application/vnd.jupyter.widget-view+json": {
       "model_id": "0d67665294ba491a8a4f59214089a1a5",
       "version_major": 2,
       "version_minor": 0
      },
      "text/html": [
       "<p>Failed to display Jupyter Widget of type <code>HBox</code>.</p>\n",
       "<p>\n",
       "  If you're reading this message in the Jupyter Notebook or JupyterLab Notebook, it may mean\n",
       "  that the widgets JavaScript is still loading. If this message persists, it\n",
       "  likely means that the widgets JavaScript library is either not installed or\n",
       "  not enabled. See the <a href=\"https://ipywidgets.readthedocs.io/en/stable/user_install.html\">Jupyter\n",
       "  Widgets Documentation</a> for setup instructions.\n",
       "</p>\n",
       "<p>\n",
       "  If you're reading this message in another frontend (for example, a static\n",
       "  rendering on GitHub or <a href=\"https://nbviewer.jupyter.org/\">NBViewer</a>),\n",
       "  it may mean that your frontend doesn't currently support widgets.\n",
       "</p>\n"
      ],
      "text/plain": [
       "HBox(children=(IntProgress(value=0, description='Epoch', max=31), HTML(value='')))"
      ]
     },
     "metadata": {},
     "output_type": "display_data"
    },
    {
     "name": "stdout",
     "output_type": "stream",
     "text": [
      "epoch      trn_loss   val_loss   accuracy                   \n",
      "    0      4.216096   2.429269   0.470588  \n",
      "    1      2.892844   1.453541   0.647059                   \n",
      "    2      1.73311    1.202355   0.735294                   \n",
      "    3      1.524933   1.204949   0.696078                   \n",
      "    4      1.071626   0.886074   0.754902                   \n",
      "    5      0.807504   0.781927   0.794118                    \n",
      "    6      0.660953   0.746762   0.803922                    \n",
      "    7      0.683104   1.132709   0.794118                    \n",
      "    8      0.6951     0.921869   0.77451                     \n",
      "    9      0.539786   0.836753   0.794118                   \n",
      "    10     0.47475    0.853673   0.813725                    \n",
      "    11     0.345287   0.774512   0.784314                    \n",
      "    12     0.274572   0.752024   0.77451                     \n",
      "    13     0.334633   0.691749   0.784314                    \n",
      "    14     0.31098    0.695472   0.794118                    \n",
      "    15     0.408528   0.891271   0.813725                    \n",
      "    16     0.411976   0.873836   0.813725                    \n",
      "    17     0.409619   0.871413   0.813725                   \n",
      "    18     0.301205   0.813366   0.803922                    \n",
      "    19     0.326943   0.819729   0.803922                    \n",
      "    20     0.280788   0.778499   0.823529                    \n",
      "    21     0.257231   0.804395   0.833333                    \n",
      "    22     0.320496   0.693212   0.843137                   \n",
      "    23     0.26636    0.684401   0.843137                    \n",
      "    24     0.191599   0.631966   0.882353                    \n",
      "    25     0.211241   0.620225   0.882353                    \n",
      "    26     0.196949   0.619741   0.862745                    \n",
      "    27     0.196385   0.601316   0.833333                    \n",
      "    28     0.156826   0.583248   0.872549                    \n",
      "    29     0.229158   0.601544   0.852941                    \n",
      "    30     0.198986   0.603882   0.852941                    \n",
      "\n",
      "model 1 took 147.75357747077942s\n"
     ]
    },
    {
     "data": {
      "application/vnd.jupyter.widget-view+json": {
       "model_id": "9a97e9e345294b6abcea441df1b49ccd",
       "version_major": 2,
       "version_minor": 0
      },
      "text/html": [
       "<p>Failed to display Jupyter Widget of type <code>HBox</code>.</p>\n",
       "<p>\n",
       "  If you're reading this message in the Jupyter Notebook or JupyterLab Notebook, it may mean\n",
       "  that the widgets JavaScript is still loading. If this message persists, it\n",
       "  likely means that the widgets JavaScript library is either not installed or\n",
       "  not enabled. See the <a href=\"https://ipywidgets.readthedocs.io/en/stable/user_install.html\">Jupyter\n",
       "  Widgets Documentation</a> for setup instructions.\n",
       "</p>\n",
       "<p>\n",
       "  If you're reading this message in another frontend (for example, a static\n",
       "  rendering on GitHub or <a href=\"https://nbviewer.jupyter.org/\">NBViewer</a>),\n",
       "  it may mean that your frontend doesn't currently support widgets.\n",
       "</p>\n"
      ],
      "text/plain": [
       "HBox(children=(IntProgress(value=0, description='Epoch', max=31), HTML(value='')))"
      ]
     },
     "metadata": {},
     "output_type": "display_data"
    },
    {
     "name": "stdout",
     "output_type": "stream",
     "text": [
      "epoch      trn_loss   val_loss   accuracy                   \n",
      "    0      4.159198   2.749343   0.392157  \n",
      "    1      2.741774   1.677563   0.578431                   \n",
      "    2      1.694134   1.433344   0.686275                   \n",
      "    3      1.62402    1.374581   0.715686                   \n",
      "    4      1.059675   1.125942   0.735294                   \n",
      "    5      0.764514   1.094847   0.745098                    \n",
      "    6      0.591777   1.049923   0.745098                    \n",
      "    7      0.720631   1.246648   0.72549                     \n",
      "    8      0.712982   1.250402   0.72549                     \n",
      "    9      0.6151     1.150212   0.72549                     \n",
      "    10     0.4911     1.239692   0.745098                    \n",
      "    11     0.399527   1.196419   0.764706                   \n",
      "    12     0.272836   1.102992   0.764706                    \n",
      "    13     0.22358    1.129807   0.784314                    \n",
      "    14     0.268718   1.04508    0.784314                    \n",
      "    15     0.360391   1.360321   0.754902                    \n",
      "    16     0.367745   1.34376    0.764706                    \n",
      "    17     0.312703   1.19983    0.764706                    \n",
      "    18     0.365126   1.123458   0.77451                     \n",
      "    19     0.350302   1.19096    0.823529                    \n",
      "    20     0.248358   1.047733   0.77451                     \n",
      "    21     0.228627   0.987664   0.813725                    \n",
      "    22     0.161894   0.943693   0.764706                    \n",
      "    23     0.176295   1.000889   0.784314                    \n",
      "    24     0.164579   1.089723   0.823529                    \n",
      "    25     0.213889   0.985484   0.794118                    \n",
      "    26     0.141334   0.997759   0.803922                    \n",
      "    27     0.161924   0.985151   0.794118                    \n",
      "    28     0.139901   0.982941   0.803922                    \n",
      "    29     0.126538   1.056252   0.764706                    \n",
      "    30     0.102343   0.996107   0.794118                    \n",
      "\n",
      "model 2 took 147.74004077911377s\n"
     ]
    },
    {
     "data": {
      "application/vnd.jupyter.widget-view+json": {
       "model_id": "3512f640057e46a084ccbc70ab9a0223",
       "version_major": 2,
       "version_minor": 0
      },
      "text/html": [
       "<p>Failed to display Jupyter Widget of type <code>HBox</code>.</p>\n",
       "<p>\n",
       "  If you're reading this message in the Jupyter Notebook or JupyterLab Notebook, it may mean\n",
       "  that the widgets JavaScript is still loading. If this message persists, it\n",
       "  likely means that the widgets JavaScript library is either not installed or\n",
       "  not enabled. See the <a href=\"https://ipywidgets.readthedocs.io/en/stable/user_install.html\">Jupyter\n",
       "  Widgets Documentation</a> for setup instructions.\n",
       "</p>\n",
       "<p>\n",
       "  If you're reading this message in another frontend (for example, a static\n",
       "  rendering on GitHub or <a href=\"https://nbviewer.jupyter.org/\">NBViewer</a>),\n",
       "  it may mean that your frontend doesn't currently support widgets.\n",
       "</p>\n"
      ],
      "text/plain": [
       "HBox(children=(IntProgress(value=0, description='Epoch', max=31), HTML(value='')))"
      ]
     },
     "metadata": {},
     "output_type": "display_data"
    },
    {
     "name": "stdout",
     "output_type": "stream",
     "text": [
      "epoch      trn_loss   val_loss   accuracy                   \n",
      "    0      4.333248   2.664396   0.460784  \n",
      "    1      2.860782   1.470404   0.676471                   \n",
      "    2      1.662286   1.288387   0.656863                   \n",
      "    3      1.47541    1.019157   0.72549                    \n",
      "    4      1.188742   0.887136   0.764706                   \n",
      "    5      0.70292    0.807074   0.803922                    \n",
      "    6      0.565062   0.801142   0.794118                    \n",
      "    7      0.928013   0.745311   0.803922                    \n",
      "    8      0.67818    0.776846   0.813725                    \n",
      "    9      0.649768   0.890076   0.813725                    \n",
      "    10     0.591418   0.713603   0.843137                    \n",
      "    11     0.383756   0.75094    0.813725                    \n",
      "    12     0.298982   0.682767   0.823529                    \n",
      "    13     0.279557   0.657512   0.833333                   \n",
      "    14     0.305767   0.637801   0.833333                    \n",
      "    15     0.349912   0.625346   0.833333                   \n",
      "    16     0.415689   0.727005   0.843137                    \n",
      "    17     0.319193   0.872957   0.794118                    \n",
      "    18     0.511439   0.916068   0.784314                    \n",
      "    19     0.347497   0.829754   0.823529                    \n",
      "    20     0.329725   0.768815   0.843137                    \n",
      "    21     0.224756   0.723356   0.843137                    \n",
      "    22     0.237966   0.733955   0.803922                    \n",
      "    23     0.188395   0.652616   0.852941                    \n",
      "    24     0.285521   0.690185   0.843137                    \n",
      "    25     0.178125   0.70705    0.833333                    \n",
      "    26     0.120427   0.672191   0.852941                    \n",
      "    27     0.116541   0.707452   0.823529                    \n",
      "    28     0.133864   0.670714   0.843137                    \n",
      "    29     0.113331   0.716737   0.803922                    \n",
      "    30     0.148852   0.74053    0.794118                   \n",
      "\n",
      "model 3 took 148.07535767555237s\n"
     ]
    },
    {
     "data": {
      "application/vnd.jupyter.widget-view+json": {
       "model_id": "57e579a3158f48a09b54644882b9d048",
       "version_major": 2,
       "version_minor": 0
      },
      "text/html": [
       "<p>Failed to display Jupyter Widget of type <code>HBox</code>.</p>\n",
       "<p>\n",
       "  If you're reading this message in the Jupyter Notebook or JupyterLab Notebook, it may mean\n",
       "  that the widgets JavaScript is still loading. If this message persists, it\n",
       "  likely means that the widgets JavaScript library is either not installed or\n",
       "  not enabled. See the <a href=\"https://ipywidgets.readthedocs.io/en/stable/user_install.html\">Jupyter\n",
       "  Widgets Documentation</a> for setup instructions.\n",
       "</p>\n",
       "<p>\n",
       "  If you're reading this message in another frontend (for example, a static\n",
       "  rendering on GitHub or <a href=\"https://nbviewer.jupyter.org/\">NBViewer</a>),\n",
       "  it may mean that your frontend doesn't currently support widgets.\n",
       "</p>\n"
      ],
      "text/plain": [
       "HBox(children=(IntProgress(value=0, description='Epoch', max=31), HTML(value='')))"
      ]
     },
     "metadata": {},
     "output_type": "display_data"
    },
    {
     "name": "stdout",
     "output_type": "stream",
     "text": [
      "epoch      trn_loss   val_loss   accuracy                   \n",
      "    0      4.238073   2.556891   0.421569  \n",
      "    1      2.916721   1.47966    0.637255                   \n",
      "    2      1.698196   1.336704   0.696078                  \n",
      "    3      1.535782   1.038236   0.72549                    \n",
      "    4      1.043991   0.877598   0.735294                   \n",
      "    5      0.661891   0.822405   0.754902                    \n",
      "    6      0.573584   0.851634   0.754902                    \n",
      "    7      0.73582    0.902022   0.735294                    \n",
      "    8      0.771504   0.960146   0.715686                    \n",
      "    9      0.615516   0.971147   0.72549                     \n",
      "    10     0.6306     0.813671   0.803922                    \n",
      "    11     0.495099   0.818919   0.764706                    \n",
      "    12     0.296199   0.758648   0.784314                    \n",
      "    13     0.341582   0.74102    0.794118                    \n",
      "    14     0.299312   0.747589   0.784314                    \n",
      "    15     0.415912   0.886974   0.77451                     \n",
      "    16     0.454685   0.808878   0.77451                     \n",
      "    17     0.405737   0.84366    0.784314                    \n",
      "    18     0.375659   0.977086   0.745098                    \n",
      "    19     0.396987   0.828472   0.852941                    \n",
      "    20     0.257559   0.755629   0.803922                    \n",
      "    21     0.314813   0.753647   0.813725                    \n",
      "    22     0.267896   0.780384   0.843137                    \n",
      "    23     0.258581   0.821081   0.784314                    \n",
      "    24     0.314893   0.77125    0.823529                    \n",
      "    25     0.199162   0.715585   0.813725                    \n",
      "    26     0.221371   0.775116   0.813725                    \n",
      "    27     0.148728   0.712796   0.803922                    \n",
      "    28     0.194164   0.750593   0.803922                    \n",
      "    29     0.164019   0.753281   0.803922                    \n",
      "    30     0.173432   0.754394   0.833333                    \n",
      "\n",
      "model 4 took 147.9581241607666s\n",
      "Cyclical rate tool 739.8022854328156s in total\n",
      "predicting images\n",
      "predicting for model 0 took 87.13739228248596s\n",
      "predicting for model 1 took 87.19128561019897s\n",
      "predicting for model 2 took 87.093510389328s \n",
      "predicting for model 3 took 87.17205381393433s\n",
      "predicting for model 4 took 87.15787148475647s\n",
      "Predicting took 435.7541182041168s\n",
      "result cyclical rate 2: 0.8598039215686275\n"
     ]
    }
   ],
   "source": [
    "%%time\n",
    "for j in range(3):\n",
    "  m2 = trainModels(data)\n",
    "  runCyclicalRate(m2)\n",
    "  preds, y =predictImages(m2)\n",
    "  result=accuracy_np(preds, y)\n",
    "  print('result cyclical rate {}: {}'.format(j, result))"
   ]
  },
  {
   "cell_type": "code",
   "execution_count": null,
   "metadata": {},
   "outputs": [],
   "source": []
  }
 ],
 "metadata": {
  "kernelspec": {
   "display_name": "Python 3",
   "language": "python",
   "name": "python3"
  },
  "language_info": {
   "codemirror_mode": {
    "name": "ipython",
    "version": 3
   },
   "file_extension": ".py",
   "mimetype": "text/x-python",
   "name": "python",
   "nbconvert_exporter": "python",
   "pygments_lexer": "ipython3",
   "version": "3.6.4"
  }
 },
 "nbformat": 4,
 "nbformat_minor": 2
}
