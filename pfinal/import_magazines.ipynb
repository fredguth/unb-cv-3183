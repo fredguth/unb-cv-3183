{
 "cells": [
  {
   "cell_type": "code",
   "execution_count": 18,
   "metadata": {},
   "outputs": [
    {
     "ename": "ImportError",
     "evalue": "No module named request",
     "output_type": "error",
     "traceback": [
      "\u001b[0;31m---------------------------------------------------------------------------\u001b[0m",
      "\u001b[0;31mImportError\u001b[0m                               Traceback (most recent call last)",
      "\u001b[0;32m<ipython-input-18-d28b9295d821>\u001b[0m in \u001b[0;36m<module>\u001b[0;34m()\u001b[0m\n\u001b[1;32m      1\u001b[0m \u001b[0;32mimport\u001b[0m \u001b[0mpandas\u001b[0m \u001b[0;32mas\u001b[0m \u001b[0mpd\u001b[0m\u001b[0;34m\u001b[0m\u001b[0m\n\u001b[1;32m      2\u001b[0m \u001b[0;32mimport\u001b[0m \u001b[0mnumpy\u001b[0m \u001b[0;32mas\u001b[0m \u001b[0mnp\u001b[0m\u001b[0;34m\u001b[0m\u001b[0m\n\u001b[0;32m----> 3\u001b[0;31m \u001b[0;32mimport\u001b[0m \u001b[0murllib\u001b[0m\u001b[0;34m.\u001b[0m\u001b[0mrequest\u001b[0m\u001b[0;34m\u001b[0m\u001b[0m\n\u001b[0m",
      "\u001b[0;31mImportError\u001b[0m: No module named request"
     ]
    }
   ],
   "source": [
    "import pandas as pd\n",
    "import numpy as np\n",
    "import urllib.request"
   ]
  },
  {
   "cell_type": "code",
   "execution_count": 2,
   "metadata": {},
   "outputs": [],
   "source": [
    "\n",
    "df = pd.read_csv('./magazines.csv')"
   ]
  },
  {
   "cell_type": "code",
   "execution_count": 3,
   "metadata": {},
   "outputs": [
    {
     "name": "stdout",
     "output_type": "stream",
     "text": [
      "    Id                        Magazine url\n",
      "0  563    https://mags.clubeami.com.br/563\n",
      "1  561    https://mags.clubeami.com.br/561\n",
      "2  560    https://mags.clubeami.com.br/560\n",
      "3  539   https://mags.clubeami.com.br/539/\n",
      "4  520  https://mags.clubeami.com.br/520a/\n"
     ]
    }
   ],
   "source": [
    "print(df.head(5))"
   ]
  },
  {
   "cell_type": "code",
   "execution_count": 11,
   "metadata": {},
   "outputs": [
    {
     "name": "stdout",
     "output_type": "stream",
     "text": [
      "563 https://mags.clubeami.com.br/563\n"
     ]
    }
   ],
   "source": [
    "print (df['Id'][0], df['Magazine url'][0])"
   ]
  },
  {
   "cell_type": "code",
   "execution_count": 8,
   "metadata": {},
   "outputs": [
    {
     "name": "stdout",
     "output_type": "stream",
     "text": [
      "https://mags.clubeami.com.br/563/files/assets/common/page-html5-substrates/page0000.jpg\n",
      "https://mags.clubeami.com.br/563/files/assets/common/page-html5-substrates/page0001.jpg\n",
      "https://mags.clubeami.com.br/563/files/assets/common/page-html5-substrates/page0002.jpg\n",
      "https://mags.clubeami.com.br/563/files/assets/common/page-html5-substrates/page0003.jpg\n",
      "https://mags.clubeami.com.br/563/files/assets/common/page-html5-substrates/page0004.jpg\n",
      "https://mags.clubeami.com.br/563/files/assets/common/page-html5-substrates/page0005.jpg\n",
      "https://mags.clubeami.com.br/563/files/assets/common/page-html5-substrates/page0006.jpg\n",
      "https://mags.clubeami.com.br/563/files/assets/common/page-html5-substrates/page0007.jpg\n",
      "https://mags.clubeami.com.br/563/files/assets/common/page-html5-substrates/page0008.jpg\n",
      "https://mags.clubeami.com.br/563/files/assets/common/page-html5-substrates/page0009.jpg\n",
      "https://mags.clubeami.com.br/563/files/assets/common/page-html5-substrates/page0010.jpg\n",
      "https://mags.clubeami.com.br/563/files/assets/common/page-html5-substrates/page0011.jpg\n",
      "https://mags.clubeami.com.br/563/files/assets/common/page-html5-substrates/page0012.jpg\n",
      "https://mags.clubeami.com.br/563/files/assets/common/page-html5-substrates/page0013.jpg\n",
      "https://mags.clubeami.com.br/563/files/assets/common/page-html5-substrates/page0014.jpg\n",
      "https://mags.clubeami.com.br/563/files/assets/common/page-html5-substrates/page0015.jpg\n",
      "https://mags.clubeami.com.br/563/files/assets/common/page-html5-substrates/page0016.jpg\n",
      "https://mags.clubeami.com.br/563/files/assets/common/page-html5-substrates/page0017.jpg\n",
      "https://mags.clubeami.com.br/563/files/assets/common/page-html5-substrates/page0018.jpg\n",
      "https://mags.clubeami.com.br/563/files/assets/common/page-html5-substrates/page0019.jpg\n",
      "https://mags.clubeami.com.br/563/files/assets/common/page-html5-substrates/page0020.jpg\n",
      "https://mags.clubeami.com.br/563/files/assets/common/page-html5-substrates/page0021.jpg\n",
      "https://mags.clubeami.com.br/563/files/assets/common/page-html5-substrates/page0022.jpg\n",
      "https://mags.clubeami.com.br/563/files/assets/common/page-html5-substrates/page0023.jpg\n",
      "https://mags.clubeami.com.br/563/files/assets/common/page-html5-substrates/page0024.jpg\n",
      "https://mags.clubeami.com.br/563/files/assets/common/page-html5-substrates/page0025.jpg\n",
      "https://mags.clubeami.com.br/563/files/assets/common/page-html5-substrates/page0026.jpg\n",
      "https://mags.clubeami.com.br/563/files/assets/common/page-html5-substrates/page0027.jpg\n",
      "https://mags.clubeami.com.br/563/files/assets/common/page-html5-substrates/page0028.jpg\n",
      "https://mags.clubeami.com.br/563/files/assets/common/page-html5-substrates/page0029.jpg\n",
      "https://mags.clubeami.com.br/563/files/assets/common/page-html5-substrates/page0030.jpg\n",
      "https://mags.clubeami.com.br/563/files/assets/common/page-html5-substrates/page0031.jpg\n",
      "https://mags.clubeami.com.br/563/files/assets/common/page-html5-substrates/page0032.jpg\n",
      "https://mags.clubeami.com.br/563/files/assets/common/page-html5-substrates/page0033.jpg\n",
      "https://mags.clubeami.com.br/563/files/assets/common/page-html5-substrates/page0034.jpg\n",
      "https://mags.clubeami.com.br/563/files/assets/common/page-html5-substrates/page0035.jpg\n",
      "https://mags.clubeami.com.br/563/files/assets/common/page-html5-substrates/page0036.jpg\n",
      "https://mags.clubeami.com.br/563/files/assets/common/page-html5-substrates/page0037.jpg\n",
      "https://mags.clubeami.com.br/563/files/assets/common/page-html5-substrates/page0038.jpg\n",
      "https://mags.clubeami.com.br/563/files/assets/common/page-html5-substrates/page0039.jpg\n",
      "https://mags.clubeami.com.br/563/files/assets/common/page-html5-substrates/page0040.jpg\n",
      "https://mags.clubeami.com.br/563/files/assets/common/page-html5-substrates/page0041.jpg\n",
      "https://mags.clubeami.com.br/563/files/assets/common/page-html5-substrates/page0042.jpg\n",
      "https://mags.clubeami.com.br/563/files/assets/common/page-html5-substrates/page0043.jpg\n",
      "https://mags.clubeami.com.br/563/files/assets/common/page-html5-substrates/page0044.jpg\n",
      "https://mags.clubeami.com.br/563/files/assets/common/page-html5-substrates/page0045.jpg\n",
      "https://mags.clubeami.com.br/563/files/assets/common/page-html5-substrates/page0046.jpg\n",
      "https://mags.clubeami.com.br/563/files/assets/common/page-html5-substrates/page0047.jpg\n",
      "https://mags.clubeami.com.br/563/files/assets/common/page-html5-substrates/page0048.jpg\n",
      "https://mags.clubeami.com.br/563/files/assets/common/page-html5-substrates/page0049.jpg\n",
      "https://mags.clubeami.com.br/563/files/assets/common/page-html5-substrates/page0050.jpg\n",
      "https://mags.clubeami.com.br/563/files/assets/common/page-html5-substrates/page0051.jpg\n",
      "https://mags.clubeami.com.br/563/files/assets/common/page-html5-substrates/page0052.jpg\n",
      "https://mags.clubeami.com.br/563/files/assets/common/page-html5-substrates/page0053.jpg\n",
      "https://mags.clubeami.com.br/563/files/assets/common/page-html5-substrates/page0054.jpg\n",
      "https://mags.clubeami.com.br/563/files/assets/common/page-html5-substrates/page0055.jpg\n",
      "https://mags.clubeami.com.br/563/files/assets/common/page-html5-substrates/page0056.jpg\n",
      "https://mags.clubeami.com.br/563/files/assets/common/page-html5-substrates/page0057.jpg\n",
      "https://mags.clubeami.com.br/563/files/assets/common/page-html5-substrates/page0058.jpg\n",
      "https://mags.clubeami.com.br/563/files/assets/common/page-html5-substrates/page0059.jpg\n",
      "https://mags.clubeami.com.br/563/files/assets/common/page-html5-substrates/page0060.jpg\n",
      "https://mags.clubeami.com.br/563/files/assets/common/page-html5-substrates/page0061.jpg\n",
      "https://mags.clubeami.com.br/563/files/assets/common/page-html5-substrates/page0062.jpg\n",
      "https://mags.clubeami.com.br/563/files/assets/common/page-html5-substrates/page0063.jpg\n",
      "https://mags.clubeami.com.br/563/files/assets/common/page-html5-substrates/page0064.jpg\n",
      "https://mags.clubeami.com.br/563/files/assets/common/page-html5-substrates/page0065.jpg\n",
      "https://mags.clubeami.com.br/563/files/assets/common/page-html5-substrates/page0066.jpg\n",
      "https://mags.clubeami.com.br/563/files/assets/common/page-html5-substrates/page0067.jpg\n",
      "https://mags.clubeami.com.br/563/files/assets/common/page-html5-substrates/page0068.jpg\n",
      "https://mags.clubeami.com.br/563/files/assets/common/page-html5-substrates/page0069.jpg\n",
      "https://mags.clubeami.com.br/563/files/assets/common/page-html5-substrates/page0070.jpg\n",
      "https://mags.clubeami.com.br/563/files/assets/common/page-html5-substrates/page0071.jpg\n",
      "https://mags.clubeami.com.br/563/files/assets/common/page-html5-substrates/page0072.jpg\n",
      "https://mags.clubeami.com.br/563/files/assets/common/page-html5-substrates/page0073.jpg\n",
      "https://mags.clubeami.com.br/563/files/assets/common/page-html5-substrates/page0074.jpg\n",
      "https://mags.clubeami.com.br/563/files/assets/common/page-html5-substrates/page0075.jpg\n",
      "https://mags.clubeami.com.br/563/files/assets/common/page-html5-substrates/page0076.jpg\n",
      "https://mags.clubeami.com.br/563/files/assets/common/page-html5-substrates/page0077.jpg\n",
      "https://mags.clubeami.com.br/563/files/assets/common/page-html5-substrates/page0078.jpg\n",
      "https://mags.clubeami.com.br/563/files/assets/common/page-html5-substrates/page0079.jpg\n",
      "https://mags.clubeami.com.br/563/files/assets/common/page-html5-substrates/page0080.jpg\n",
      "https://mags.clubeami.com.br/563/files/assets/common/page-html5-substrates/page0081.jpg\n",
      "https://mags.clubeami.com.br/563/files/assets/common/page-html5-substrates/page0082.jpg\n",
      "https://mags.clubeami.com.br/563/files/assets/common/page-html5-substrates/page0083.jpg\n",
      "https://mags.clubeami.com.br/563/files/assets/common/page-html5-substrates/page0084.jpg\n",
      "https://mags.clubeami.com.br/563/files/assets/common/page-html5-substrates/page0085.jpg\n",
      "https://mags.clubeami.com.br/563/files/assets/common/page-html5-substrates/page0086.jpg\n",
      "https://mags.clubeami.com.br/563/files/assets/common/page-html5-substrates/page0087.jpg\n",
      "https://mags.clubeami.com.br/563/files/assets/common/page-html5-substrates/page0088.jpg\n",
      "https://mags.clubeami.com.br/563/files/assets/common/page-html5-substrates/page0089.jpg\n",
      "https://mags.clubeami.com.br/563/files/assets/common/page-html5-substrates/page0090.jpg\n",
      "https://mags.clubeami.com.br/563/files/assets/common/page-html5-substrates/page0091.jpg\n",
      "https://mags.clubeami.com.br/563/files/assets/common/page-html5-substrates/page0092.jpg\n",
      "https://mags.clubeami.com.br/563/files/assets/common/page-html5-substrates/page0093.jpg\n"
     ]
    },
    {
     "name": "stdout",
     "output_type": "stream",
     "text": [
      "https://mags.clubeami.com.br/563/files/assets/common/page-html5-substrates/page0094.jpg\n",
      "https://mags.clubeami.com.br/563/files/assets/common/page-html5-substrates/page0095.jpg\n",
      "https://mags.clubeami.com.br/563/files/assets/common/page-html5-substrates/page0096.jpg\n",
      "https://mags.clubeami.com.br/563/files/assets/common/page-html5-substrates/page0097.jpg\n",
      "https://mags.clubeami.com.br/563/files/assets/common/page-html5-substrates/page0098.jpg\n",
      "https://mags.clubeami.com.br/563/files/assets/common/page-html5-substrates/page0099.jpg\n"
     ]
    }
   ],
   "source": [
    "# for i in range(len(df[\"Magazine url\"])\n",
    "# for i in range(1):\n",
    "#     for j in range(100):\n",
    "#         url = df[\"Magazine url\"][i]+'/files/assets/common/page-html5-substrates/page'+str(j).zfill(4)+'.jpg'\n",
    "#         try:\n",
    "#             image = wget.download(url)\n",
    "#             print (url)\n",
    "#         except:\n",
    "#             print (j)\n",
    "#             break\n"
   ]
  },
  {
   "cell_type": "code",
   "execution_count": 11,
   "metadata": {},
   "outputs": [],
   "source": [
    "url = df[\"Magazine url\"][10]+'files/assets/common/page-html5-substrates/page'+str(10).zfill(4)+'.jpg'"
   ]
  },
  {
   "cell_type": "code",
   "execution_count": 12,
   "metadata": {},
   "outputs": [
    {
     "data": {
      "text/plain": [
       "'https://mags.clubeami.com.br/472/files/assets/common/page-html5-substrates/page0010.jpg'"
      ]
     },
     "execution_count": 12,
     "metadata": {},
     "output_type": "execute_result"
    }
   ],
   "source": [
    "url"
   ]
  },
  {
   "cell_type": "code",
   "execution_count": 17,
   "metadata": {},
   "outputs": [
    {
     "ename": "AttributeError",
     "evalue": "'module' object has no attribute 'request'",
     "output_type": "error",
     "traceback": [
      "\u001b[0;31m---------------------------------------------------------------------------\u001b[0m",
      "\u001b[0;31mAttributeError\u001b[0m                            Traceback (most recent call last)",
      "\u001b[0;32m<ipython-input-17-255a8e7d2437>\u001b[0m in \u001b[0;36m<module>\u001b[0;34m()\u001b[0m\n\u001b[0;32m----> 1\u001b[0;31m \u001b[0murllib\u001b[0m\u001b[0;34m.\u001b[0m\u001b[0mrequest\u001b[0m\u001b[0;34m.\u001b[0m\u001b[0murlretrieve\u001b[0m\u001b[0;34m(\u001b[0m\u001b[0murl\u001b[0m\u001b[0;34m,\u001b[0m \u001b[0;34m'./data/page0010.jpg'\u001b[0m\u001b[0;34m)\u001b[0m\u001b[0;34m\u001b[0m\u001b[0m\n\u001b[0m",
      "\u001b[0;31mAttributeError\u001b[0m: 'module' object has no attribute 'request'"
     ]
    }
   ],
   "source": [
    "urllib.request.urlretrieve(url, './data/page0010.jpg')  "
   ]
  },
  {
   "cell_type": "code",
   "execution_count": 14,
   "metadata": {},
   "outputs": [
    {
     "data": {
      "text/plain": [
       "u'page0010 (3).jpg'"
      ]
     },
     "execution_count": 14,
     "metadata": {},
     "output_type": "execute_result"
    }
   ],
   "source": [
    "urllib."
   ]
  },
  {
   "cell_type": "code",
   "execution_count": null,
   "metadata": {},
   "outputs": [],
   "source": []
  }
 ],
 "metadata": {
  "kernelspec": {
   "display_name": "Python 2",
   "language": "python",
   "name": "python2"
  },
  "language_info": {
   "codemirror_mode": {
    "name": "ipython",
    "version": 2
   },
   "file_extension": ".py",
   "mimetype": "text/x-python",
   "name": "python",
   "nbconvert_exporter": "python",
   "pygments_lexer": "ipython2",
   "version": "2.7.15"
  }
 },
 "nbformat": 4,
 "nbformat_minor": 2
}
