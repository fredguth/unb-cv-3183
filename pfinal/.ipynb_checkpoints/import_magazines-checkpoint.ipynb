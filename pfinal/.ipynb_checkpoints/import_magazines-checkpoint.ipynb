{
 "cells": [
  {
   "cell_type": "code",
   "execution_count": 1,
   "metadata": {
    "collapsed": true
   },
   "outputs": [],
   "source": [
    "import pandas as pd\n",
    "import numpy as np\n",
    "import wget\n"
   ]
  },
  {
   "cell_type": "code",
   "execution_count": 7,
   "metadata": {
    "collapsed": true
   },
   "outputs": [],
   "source": [
    "\n",
    "df = pd.read_csv('./magazines.csv')"
   ]
  },
  {
   "cell_type": "code",
   "execution_count": 8,
   "metadata": {},
   "outputs": [
    {
     "name": "stdout",
     "output_type": "stream",
     "text": [
      "    Id                        Magazine url\n",
      "0  563    https://mags.clubeami.com.br/563\n",
      "1  561    https://mags.clubeami.com.br/561\n",
      "2  560    https://mags.clubeami.com.br/560\n",
      "3  539   https://mags.clubeami.com.br/539/\n",
      "4  520  https://mags.clubeami.com.br/520a/\n"
     ]
    }
   ],
   "source": [
    "print(df.head(5))"
   ]
  },
  {
   "cell_type": "code",
   "execution_count": 11,
   "metadata": {},
   "outputs": [
    {
     "name": "stdout",
     "output_type": "stream",
     "text": [
      "563 https://mags.clubeami.com.br/563\n"
     ]
    }
   ],
   "source": [
    "print (df['Id'][0], df['Magazine url'][0])"
   ]
  },
  {
   "cell_type": "code",
   "execution_count": null,
   "metadata": {},
   "outputs": [],
   "source": [
    "for i in range(len(df[\"Magazine url\"])):\n",
    "    for j in range(100):\n",
    "        url = df[\"Magazine url\"][i]+'/files/assets/common/page-html5-substrates/page'+str(j).zfill(4)+'.jpg'\n",
    "        try:\n",
    "            image = wget(url)\n",
    "        except:\n",
    "            print (j)\n",
    "            break"
   ]
  },
  {
   "cell_type": "code",
   "execution_count": null,
   "metadata": {
    "collapsed": true
   },
   "outputs": [],
   "source": []
  }
 ],
 "metadata": {
  "kernelspec": {
   "display_name": "Python 3",
   "language": "python",
   "name": "python3"
  },
  "language_info": {
   "codemirror_mode": {
    "name": "ipython",
    "version": 3
   },
   "file_extension": ".py",
   "mimetype": "text/x-python",
   "name": "python",
   "nbconvert_exporter": "python",
   "pygments_lexer": "ipython3",
   "version": "3.6.3"
  }
 },
 "nbformat": 4,
 "nbformat_minor": 2
}
